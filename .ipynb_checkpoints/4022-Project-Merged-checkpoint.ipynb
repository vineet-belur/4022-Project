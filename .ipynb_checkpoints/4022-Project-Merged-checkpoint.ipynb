{
 "cells": [
  {
   "cell_type": "code",
   "execution_count": 1,
   "id": "0444744f",
   "metadata": {},
   "outputs": [],
   "source": [
    "import numpy as np\n",
    "import pandas as pd\n",
    "import matplotlib.pyplot as plt"
   ]
  },
  {
   "cell_type": "code",
   "execution_count": 59,
   "id": "6455d8df",
   "metadata": {},
   "outputs": [],
   "source": [
    "df = pd.read_csv('4022-project/data/12-3l-21_to_3-30-22.csv',skiprows=[x for x in range(1, 12)],)\n",
    "df1 = pd.read_csv('./09-01-21_to_03-30-22.csv', skiprows=[x for x in range(1, 12)],)\n",
    "\n",
    "frames = [df1, df] ##\n",
    "df = pd.concat(frames) ##\n",
    "df = df.iloc[:,[1, 2, 7]]\n",
    "df = df[df.isin(['Low', 'High']) == False]\n",
    "df = df[df.iloc[:,2].notna()]\n",
    "dfM = df.reset_index(drop=True)\n",
    "dfM = dfM.astype({dfM.columns[2]:'float64'})\n",
    "\n",
    "\n",
    "#gluc.describe()"
   ]
  },
  {
   "cell_type": "code",
   "execution_count": 60,
   "id": "806b49e8",
   "metadata": {},
   "outputs": [
    {
     "data": {
      "text/html": [
       "<div>\n",
       "<style scoped>\n",
       "    .dataframe tbody tr th:only-of-type {\n",
       "        vertical-align: middle;\n",
       "    }\n",
       "\n",
       "    .dataframe tbody tr th {\n",
       "        vertical-align: top;\n",
       "    }\n",
       "\n",
       "    .dataframe thead th {\n",
       "        text-align: right;\n",
       "    }\n",
       "</style>\n",
       "<table border=\"1\" class=\"dataframe\">\n",
       "  <thead>\n",
       "    <tr style=\"text-align: right;\">\n",
       "      <th></th>\n",
       "      <th>MM-DD</th>\n",
       "      <th>HH:MM</th>\n",
       "    </tr>\n",
       "  </thead>\n",
       "  <tbody>\n",
       "    <tr>\n",
       "      <th>0</th>\n",
       "      <td>2021-09-01</td>\n",
       "      <td>00:08:37</td>\n",
       "    </tr>\n",
       "    <tr>\n",
       "      <th>1</th>\n",
       "      <td>2021-09-01</td>\n",
       "      <td>00:13:37</td>\n",
       "    </tr>\n",
       "    <tr>\n",
       "      <th>2</th>\n",
       "      <td>2021-09-01</td>\n",
       "      <td>00:18:36</td>\n",
       "    </tr>\n",
       "    <tr>\n",
       "      <th>3</th>\n",
       "      <td>2021-09-01</td>\n",
       "      <td>00:23:37</td>\n",
       "    </tr>\n",
       "    <tr>\n",
       "      <th>4</th>\n",
       "      <td>2021-09-01</td>\n",
       "      <td>00:28:36</td>\n",
       "    </tr>\n",
       "    <tr>\n",
       "      <th>...</th>\n",
       "      <td>...</td>\n",
       "      <td>...</td>\n",
       "    </tr>\n",
       "    <tr>\n",
       "      <th>49773</th>\n",
       "      <td>2022-03-30</td>\n",
       "      <td>12:02:04</td>\n",
       "    </tr>\n",
       "    <tr>\n",
       "      <th>49774</th>\n",
       "      <td>2022-03-30</td>\n",
       "      <td>12:07:04</td>\n",
       "    </tr>\n",
       "    <tr>\n",
       "      <th>49775</th>\n",
       "      <td>2022-03-30</td>\n",
       "      <td>12:12:04</td>\n",
       "    </tr>\n",
       "    <tr>\n",
       "      <th>49776</th>\n",
       "      <td>2022-03-30</td>\n",
       "      <td>12:17:03</td>\n",
       "    </tr>\n",
       "    <tr>\n",
       "      <th>49777</th>\n",
       "      <td>2022-03-30</td>\n",
       "      <td>12:22:03</td>\n",
       "    </tr>\n",
       "  </tbody>\n",
       "</table>\n",
       "<p>49778 rows × 2 columns</p>\n",
       "</div>"
      ],
      "text/plain": [
       "            MM-DD     HH:MM\n",
       "0      2021-09-01  00:08:37\n",
       "1      2021-09-01  00:13:37\n",
       "2      2021-09-01  00:18:36\n",
       "3      2021-09-01  00:23:37\n",
       "4      2021-09-01  00:28:36\n",
       "...           ...       ...\n",
       "49773  2022-03-30  12:02:04\n",
       "49774  2022-03-30  12:07:04\n",
       "49775  2022-03-30  12:12:04\n",
       "49776  2022-03-30  12:17:03\n",
       "49777  2022-03-30  12:22:03\n",
       "\n",
       "[49778 rows x 2 columns]"
      ]
     },
     "execution_count": 60,
     "metadata": {},
     "output_type": "execute_result"
    }
   ],
   "source": [
    "dfM[['MM-DD', 'HH:MM']] = dfM.iloc[:,0].str.split('T', 1, expand=True)\n",
    "dfM.drop('Timestamp (YYYY-MM-DDThh:mm:ss)', axis=1, inplace=True)\n",
    "dfM[['MM-DD', 'HH:MM']]"
   ]
  },
  {
   "cell_type": "code",
   "execution_count": 61,
   "id": "723ef98e",
   "metadata": {},
   "outputs": [
    {
     "data": {
      "text/plain": [
       "'05'"
      ]
     },
     "execution_count": 61,
     "metadata": {},
     "output_type": "execute_result"
    }
   ],
   "source": [
    "round_5 = lambda x: '0' + str(x - x % 5)\n",
    "round_5(8)"
   ]
  },
  {
   "cell_type": "code",
   "execution_count": 62,
   "id": "09f4a0b6",
   "metadata": {},
   "outputs": [],
   "source": [
    "dfM['HH:MM'] = dfM['HH:MM'].str.slice(start=0, stop=5)\n",
    "dfM['MM-DD'] = dfM['MM-DD'].str.slice(start=5)\n",
    "dfM['HH:MM'] = dfM['HH:MM'].apply(lambda x: x[0:3] + str(round_5(int(x[3:5]))[-2:])) \n",
    "#this is strictly unneccesarily complicated :shrugs:\n",
    "#dfM['HH:MM'].unique()"
   ]
  },
  {
   "cell_type": "code",
   "execution_count": 63,
   "id": "4479b530",
   "metadata": {},
   "outputs": [
    {
     "data": {
      "text/plain": [
       "array([['00:00', '00:05', '00:10', '00:15', '00:20', '00:25', '00:30',\n",
       "        '00:35', '00:40', '00:45'],\n",
       "       [202.79651162790697, 201.316091954023, 201.04022988505747,\n",
       "        201.6494252873563, 201.33142857142857, 201.16949152542372,\n",
       "        198.9942196531792, 196.79768786127167, 195.51445086705203,\n",
       "        196.8409090909091]], dtype=object)"
      ]
     },
     "execution_count": 63,
     "metadata": {},
     "output_type": "execute_result"
    }
   ],
   "source": [
    "means = dfM.groupby(['HH:MM'], as_index=False).mean().to_numpy().T\n",
    "means[:,:10]"
   ]
  },
  {
   "cell_type": "code",
   "execution_count": 64,
   "id": "993e9e5d",
   "metadata": {},
   "outputs": [],
   "source": [
    "gluc = dfM.iloc[:,2]\n",
    "firstd = lambda x,h: sum(x*np.array([1,-8,8,-1]))/(12*h) \n",
    "secondd = lambda x,h: sum(x*np.array([-1,16,-30,16,-1]))/(12*(h**2))\n",
    "#I'm not sure how to apply this for the last two and the first two endpoints - I'm going to assume that it makes sense \n",
    "#use a left centered/right-centered finite derivative for my boundaries. Need to check.\n",
    "h = 5\n",
    "fda = np.zeros((len(gluc), 2))\n",
    "for x in range(2, len(gluc)-2):\n",
    "    fda[x] = firstd([*gluc[x-2:x], *gluc[x+1:x+3]],h), secondd(gluc[x-2:x+3],h)\n",
    "dfA = pd.concat([dfM, pd.DataFrame(fda, columns = [\"f_prime(x)\", 'f_prime_prime(x)'])], axis=1)"
   ]
  },
  {
   "cell_type": "code",
   "execution_count": 65,
   "id": "dfc053e0",
   "metadata": {},
   "outputs": [],
   "source": [
    "#during clustering. We've set the mean to 0 and the stdev to 1\n",
    "x = dfA.iloc[:,[1,4,5]]\n",
    "means, stdevs = dfA.mean(), dfA.std()\n",
    "dfStand = x.apply(lambda x: (x-means)/stdevs, axis = 1)"
   ]
  },
  {
   "cell_type": "code",
   "execution_count": 67,
   "id": "1b57de8b",
   "metadata": {},
   "outputs": [
    {
     "data": {
      "text/html": [
       "<div>\n",
       "<style scoped>\n",
       "    .dataframe tbody tr th:only-of-type {\n",
       "        vertical-align: middle;\n",
       "    }\n",
       "\n",
       "    .dataframe tbody tr th {\n",
       "        vertical-align: top;\n",
       "    }\n",
       "\n",
       "    .dataframe thead th {\n",
       "        text-align: right;\n",
       "    }\n",
       "</style>\n",
       "<table border=\"1\" class=\"dataframe\">\n",
       "  <thead>\n",
       "    <tr style=\"text-align: right;\">\n",
       "      <th></th>\n",
       "      <th>Event Type</th>\n",
       "      <th>Glucose Value (mg/dL)</th>\n",
       "      <th>MM-DD</th>\n",
       "      <th>HH:MM</th>\n",
       "    </tr>\n",
       "  </thead>\n",
       "  <tbody>\n",
       "    <tr>\n",
       "      <th>0</th>\n",
       "      <td>EGV</td>\n",
       "      <td>174.0</td>\n",
       "      <td>09-01</td>\n",
       "      <td>00:05</td>\n",
       "    </tr>\n",
       "    <tr>\n",
       "      <th>1</th>\n",
       "      <td>EGV</td>\n",
       "      <td>169.0</td>\n",
       "      <td>09-01</td>\n",
       "      <td>00:10</td>\n",
       "    </tr>\n",
       "    <tr>\n",
       "      <th>2</th>\n",
       "      <td>EGV</td>\n",
       "      <td>168.0</td>\n",
       "      <td>09-01</td>\n",
       "      <td>00:15</td>\n",
       "    </tr>\n",
       "    <tr>\n",
       "      <th>3</th>\n",
       "      <td>EGV</td>\n",
       "      <td>169.0</td>\n",
       "      <td>09-01</td>\n",
       "      <td>00:20</td>\n",
       "    </tr>\n",
       "    <tr>\n",
       "      <th>4</th>\n",
       "      <td>EGV</td>\n",
       "      <td>166.0</td>\n",
       "      <td>09-01</td>\n",
       "      <td>00:25</td>\n",
       "    </tr>\n",
       "    <tr>\n",
       "      <th>...</th>\n",
       "      <td>...</td>\n",
       "      <td>...</td>\n",
       "      <td>...</td>\n",
       "      <td>...</td>\n",
       "    </tr>\n",
       "    <tr>\n",
       "      <th>49773</th>\n",
       "      <td>EGV</td>\n",
       "      <td>141.0</td>\n",
       "      <td>03-30</td>\n",
       "      <td>12:00</td>\n",
       "    </tr>\n",
       "    <tr>\n",
       "      <th>49774</th>\n",
       "      <td>EGV</td>\n",
       "      <td>140.0</td>\n",
       "      <td>03-30</td>\n",
       "      <td>12:05</td>\n",
       "    </tr>\n",
       "    <tr>\n",
       "      <th>49775</th>\n",
       "      <td>EGV</td>\n",
       "      <td>138.0</td>\n",
       "      <td>03-30</td>\n",
       "      <td>12:10</td>\n",
       "    </tr>\n",
       "    <tr>\n",
       "      <th>49776</th>\n",
       "      <td>EGV</td>\n",
       "      <td>135.0</td>\n",
       "      <td>03-30</td>\n",
       "      <td>12:15</td>\n",
       "    </tr>\n",
       "    <tr>\n",
       "      <th>49777</th>\n",
       "      <td>EGV</td>\n",
       "      <td>132.0</td>\n",
       "      <td>03-30</td>\n",
       "      <td>12:20</td>\n",
       "    </tr>\n",
       "  </tbody>\n",
       "</table>\n",
       "<p>49778 rows × 4 columns</p>\n",
       "</div>"
      ],
      "text/plain": [
       "      Event Type  Glucose Value (mg/dL)  MM-DD  HH:MM\n",
       "0            EGV                  174.0  09-01  00:05\n",
       "1            EGV                  169.0  09-01  00:10\n",
       "2            EGV                  168.0  09-01  00:15\n",
       "3            EGV                  169.0  09-01  00:20\n",
       "4            EGV                  166.0  09-01  00:25\n",
       "...          ...                    ...    ...    ...\n",
       "49773        EGV                  141.0  03-30  12:00\n",
       "49774        EGV                  140.0  03-30  12:05\n",
       "49775        EGV                  138.0  03-30  12:10\n",
       "49776        EGV                  135.0  03-30  12:15\n",
       "49777        EGV                  132.0  03-30  12:20\n",
       "\n",
       "[49778 rows x 4 columns]"
      ]
     },
     "execution_count": 67,
     "metadata": {},
     "output_type": "execute_result"
    }
   ],
   "source": [
    "dfM"
   ]
  },
  {
   "cell_type": "code",
   "execution_count": 81,
   "id": "3757784d",
   "metadata": {
    "scrolled": true
   },
   "outputs": [
    {
     "data": {
      "text/plain": [
       "180"
      ]
     },
     "execution_count": 81,
     "metadata": {},
     "output_type": "execute_result"
    }
   ],
   "source": []
  },
  {
   "cell_type": "code",
   "execution_count": 93,
   "id": "1071225a",
   "metadata": {},
   "outputs": [],
   "source": [
    "days = dfM['MM-DD'].unique()\n",
    "#len(days)\n",
    "dates = np.zeros(len(dfM))\n",
    "#daysarr = [0] * #len(dfM['MM-DD'].unique())\n",
    "dayc = 0\n",
    "for dat in dfM['MM-DD']:\n",
    "    #print(dat)\n",
    "    dates[dayc] = np.where(days==dat)[0][0]\n",
    "    dayc+=1\n",
    "    #np.where(days==dat)[0][0]\n",
    "    #dates[dat] = np.where(days==dat)[0][0]"
   ]
  },
  {
   "cell_type": "code",
   "execution_count": 94,
   "id": "2345a2be",
   "metadata": {},
   "outputs": [
    {
     "data": {
      "text/plain": [
       "array([  0.,   0.,   0., ..., 179., 179., 179.])"
      ]
     },
     "execution_count": 94,
     "metadata": {},
     "output_type": "execute_result"
    }
   ],
   "source": [
    "dates"
   ]
  },
  {
   "cell_type": "code",
   "execution_count": 180,
   "id": "25d92d5c",
   "metadata": {},
   "outputs": [],
   "source": [
    "dfStand['Day'] = dates\n",
    "dfM['Day'] = dates\n",
    "dfA['Day'] = dates"
   ]
  },
  {
   "cell_type": "code",
   "execution_count": 108,
   "id": "c3358dfb",
   "metadata": {},
   "outputs": [],
   "source": [
    "## GETTING HOW MANY DATA POINTS ARE IN EACH DAY\n",
    "data_points_per_day = []\n",
    "for x in range(len(days)):\n",
    "    data_points_per_day.append(len(dfStand.loc[dfStand['Day'] == x]))\n",
    "data_points_per_day = np.array(data_points_per_day)"
   ]
  },
  {
   "cell_type": "code",
   "execution_count": 122,
   "id": "5dde969f",
   "metadata": {
    "scrolled": true
   },
   "outputs": [
    {
     "data": {
      "text/plain": [
       "[<matplotlib.lines.Line2D at 0x7ff47e986ac0>]"
      ]
     },
     "execution_count": 122,
     "metadata": {},
     "output_type": "execute_result"
    },
    {
     "data": {
      "image/png": "[encoded data removed]",
      "text/plain": [
       "<Figure size 432x288 with 1 Axes>"
      ]
     },
     "metadata": {
      "needs_background": "light"
     },
     "output_type": "display_data"
    }
   ],
   "source": [
    "## PLOTING rankings of derivatives\n",
    "day_points = dfStand.loc[dfStand['Day'] == 0]\n",
    "day_points['f_prime(x)'].values.argsort()\n",
    "plt.plot(day_points['f_prime(x)'].values.argsort())\n",
    "#fprime = day_points['f_prime(x)'].values.argsort(axis=1)\n",
    "#fprime"
   ]
  },
  {
   "cell_type": "code",
   "execution_count": 207,
   "id": "29e6d0ff",
   "metadata": {},
   "outputs": [],
   "source": [
    "## USING MOVING AVERAGES \n",
    "\n",
    "fdsmooth = np.zeros(len(gluc))\n",
    "#for x in range(6, len(gluc)-6):\n",
    "#    fdsmooth[x] = (((0.5) * gluc[x-5]) + \n",
    "#                   (gluc[x-4]+gluc[x-3]+gluc[x-2]+gluc[x-1]+gluc[x]+gluc[x+1]+gluc[x+2]+gluc[x+3]+gluc[x+4])\n",
    "#                   + ((0.5) * gluc[x+4])) / 10\n",
    "for x in range(7, len(gluc)-7):\n",
    "    fdsmooth[x] = (((0.5) * gluc[x-6]) + \n",
    "                   (gluc[x-5]+gluc[x-4]+gluc[x-3]+gluc[x-2]+gluc[x-1]+gluc[x]+gluc[x+1]+gluc[x+2]+gluc[x+3]+gluc[x+4]+gluc[x-5])\n",
    "                   + ((0.5) * gluc[x+6])) / 12\n",
    "smoothed = pd.concat([dfM, pd.DataFrame(fdsmooth, columns = [\"smoothed\"])], axis=1)"
   ]
  },
  {
   "cell_type": "code",
   "execution_count": 208,
   "id": "6d911140",
   "metadata": {
    "scrolled": true
   },
   "outputs": [
    {
     "data": {
      "image/png": "[encoded data removed]",
      "text/plain": [
       "<Figure size 432x288 with 1 Axes>"
      ]
     },
     "metadata": {
      "needs_background": "light"
     },
     "output_type": "display_data"
    }
   ],
   "source": [
    "plt.plot(dfM['Glucose Value (mg/dL)'].loc[dfStand['Day'] == 0])\n",
    "plt.plot(smoothed['smoothed'].loc[dfStand['Day'] == 0])\n",
    "plt.show()"
   ]
  },
  {
   "cell_type": "code",
   "execution_count": 209,
   "id": "e125b2c3",
   "metadata": {},
   "outputs": [
    {
     "data": {
      "text/plain": [
       "0        0.0\n",
       "1        0.0\n",
       "2        0.0\n",
       "3        0.0\n",
       "4        0.0\n",
       "        ... \n",
       "49773    0.0\n",
       "49774    0.0\n",
       "49775    0.0\n",
       "49776    0.0\n",
       "49777    0.0\n",
       "Name: smoothed, Length: 49778, dtype: float64"
      ]
     },
     "execution_count": 209,
     "metadata": {},
     "output_type": "execute_result"
    }
   ],
   "source": [
    "smoothed.iloc[:,-1]"
   ]
  },
  {
   "cell_type": "code",
   "execution_count": 210,
   "id": "9f128d3d",
   "metadata": {},
   "outputs": [],
   "source": [
    "firstd = lambda x,h: sum(x*np.array([1,-8,8,-1]))/(12*h) \n",
    "secondd = lambda x,h: sum(x*np.array([-1,16,-30,16,-1]))/(12*(h**2))\n",
    "#I'm not sure how to apply this for the last two and the first two endpoints - I'm going to assume that it makes sense \n",
    "#use a left centered/right-centered finite derivative for my boundaries. Need to check.\n",
    "h = 5\n",
    "gluc=smoothed.iloc[:,-1]\n",
    "fda = np.zeros((len(gluc), 2))\n",
    "for x in range(2, len(gluc)-2):\n",
    "    fda[x] = firstd([*gluc[x-2:x], *gluc[x+1:x+3]],h), secondd(gluc[x-2:x+3],h)\n",
    "smoothed = pd.concat([smoothed, pd.DataFrame(fda, columns = [\"f_prime(x)\", 'f_prime_prime(x)'])], axis=1)"
   ]
  },
  {
   "cell_type": "code",
   "execution_count": 258,
   "id": "298d9beb",
   "metadata": {},
   "outputs": [
    {
     "data": {
      "text/plain": [
       "[<matplotlib.lines.Line2D at 0x7ff4827e7df0>]"
      ]
     },
     "execution_count": 258,
     "metadata": {},
     "output_type": "execute_result"
    },
    {
     "data": {
      "image/png": "[encoded data removed]",
      "text/plain": [
       "<Figure size 432x288 with 1 Axes>"
      ]
     },
     "metadata": {
      "needs_background": "light"
     },
     "output_type": "display_data"
    }
   ],
   "source": [
    "plt.plot(smoothed['smoothed'].loc[dfStand['Day'] == 1])"
   ]
  },
  {
   "cell_type": "code",
   "execution_count": 259,
   "id": "711e4924",
   "metadata": {
    "scrolled": false
   },
   "outputs": [
    {
     "data": {
      "text/plain": [
       "[<matplotlib.lines.Line2D at 0x7ff48396efa0>]"
      ]
     },
     "execution_count": 259,
     "metadata": {},
     "output_type": "execute_result"
    },
    {
     "data": {
      "image/png": "[encoded data removed]",
      "text/plain": [
       "<Figure size 432x288 with 1 Axes>"
      ]
     },
     "metadata": {
      "needs_background": "light"
     },
     "output_type": "display_data"
    }
   ],
   "source": [
    "plt.plot(smoothed['f_prime(x)'].loc[dfStand['Day'] == 1])"
   ]
  },
  {
   "cell_type": "code",
   "execution_count": 240,
   "id": "99b7baf3",
   "metadata": {},
   "outputs": [
    {
     "data": {
      "text/plain": [
       "[<matplotlib.lines.Line2D at 0x7ff483348b20>]"
      ]
     },
     "execution_count": 240,
     "metadata": {},
     "output_type": "execute_result"
    },
    {
     "data": {
      "image/png": "[encoded data removed]",
      "text/plain": [
       "<Figure size 432x288 with 1 Axes>"
      ]
     },
     "metadata": {
      "needs_background": "light"
     },
     "output_type": "display_data"
    }
   ],
   "source": [
    "plt.plot(smoothed['f_prime_prime(x)'].loc[dfStand['Day'] == 10])"
   ]
  },
  {
   "cell_type": "code",
   "execution_count": 263,
   "id": "ddc3e30e",
   "metadata": {},
   "outputs": [
    {
     "data": {
      "text/plain": [
       "287   -0.566111\n",
       "288   -0.598056\n",
       "289   -0.586701\n",
       "290   -0.551250\n",
       "291   -0.519653\n",
       "         ...   \n",
       "572   -0.050903\n",
       "573   -0.035903\n",
       "574   -0.004236\n",
       "575    0.027917\n",
       "576    0.041389\n",
       "Name: f_prime(x), Length: 290, dtype: float64"
      ]
     },
     "execution_count": 263,
     "metadata": {},
     "output_type": "execute_result"
    }
   ],
   "source": [
    "smoothed['f_prime(x)'].loc[dfStand['Day'] == 1]"
   ]
  },
  {
   "cell_type": "code",
   "execution_count": 239,
   "id": "cf352f8a",
   "metadata": {},
   "outputs": [
    {
     "data": {
      "text/plain": [
       "[<matplotlib.lines.Line2D at 0x7ff482f29e20>]"
      ]
     },
     "execution_count": 239,
     "metadata": {},
     "output_type": "execute_result"
    },
    {
     "data": {
      "image/png": "[encoded data removed]",
      "text/plain": [
       "<Figure size 432x288 with 1 Axes>"
      ]
     },
     "metadata": {
      "needs_background": "light"
     },
     "output_type": "display_data"
    }
   ],
   "source": [
    "plt.plot(smoothed['f_prime(x)'].loc[dfStand['Day'] == 1])"
   ]
  },
  {
   "cell_type": "code",
   "execution_count": 260,
   "id": "77d80e8d",
   "metadata": {
    "scrolled": true
   },
   "outputs": [],
   "source": [
    "day_points = smoothed.loc[smoothed['Day'] == 1]\n",
    "fprime = day_points['f_prime(x)']\n",
    "asdf = np.array(fprime > 0.7)\n",
    "#print(asdf)\n",
    "asf = []\n",
    "for pt in range(len(asdf)):\n",
    "    if asdf[pt] == True:\n",
    "        asf.append(True)\n",
    "        tmp = pt + 1\n",
    "        while asdf[tmp] != False:\n",
    "            asdf[tmp] = False\n",
    "            tmp+=1\n",
    "    else:\n",
    "        asf.append(False)"
   ]
  },
  {
   "cell_type": "code",
   "execution_count": 271,
   "id": "f18f6195",
   "metadata": {},
   "outputs": [],
   "source": [
    "## GETTING HOW MANY MEALS WERE EACH DAY\n",
    "## 288 points in a day\n",
    "meal_der_min = 0.7\n",
    "pre_der_cutoff = 0.15\n",
    "#post_der_cutoff = 0.0 ## real cutoff is return to pre BG\n",
    "#deltaBG = 40\n",
    "#Meal_bool = [False] * len(smoothed)\n",
    "Meal_bool = []\n",
    "for x in range(len(days)):\n",
    "    day_points = smoothed.loc[smoothed['Day'] == x]\n",
    "    fprime = day_points['f_prime(x)']\n",
    "    fprime = np.array(fprime > meal_der_min)\n",
    "    for pt in range(len(fprime)):\n",
    "        if fprime[pt] == True:\n",
    "            Meal_bool.append(True)\n",
    "            tmp = pt + 1\n",
    "            while tmp < len(fprime) and fprime[tmp] != False:\n",
    "                fprime[tmp] = False\n",
    "                tmp+=1\n",
    "        else:\n",
    "            Meal_bool.append(False)"
   ]
  },
  {
   "cell_type": "code",
   "execution_count": 272,
   "id": "af7242b3",
   "metadata": {},
   "outputs": [
    {
     "data": {
      "text/html": [
       "<div>\n",
       "<style scoped>\n",
       "    .dataframe tbody tr th:only-of-type {\n",
       "        vertical-align: middle;\n",
       "    }\n",
       "\n",
       "    .dataframe tbody tr th {\n",
       "        vertical-align: top;\n",
       "    }\n",
       "\n",
       "    .dataframe thead th {\n",
       "        text-align: right;\n",
       "    }\n",
       "</style>\n",
       "<table border=\"1\" class=\"dataframe\">\n",
       "  <thead>\n",
       "    <tr style=\"text-align: right;\">\n",
       "      <th></th>\n",
       "      <th>Event Type</th>\n",
       "      <th>Glucose Value (mg/dL)</th>\n",
       "      <th>MM-DD</th>\n",
       "      <th>HH:MM</th>\n",
       "      <th>Day</th>\n",
       "      <th>smoothed</th>\n",
       "      <th>f_prime(x)</th>\n",
       "      <th>f_prime_prime(x)</th>\n",
       "      <th>Meal_Event</th>\n",
       "    </tr>\n",
       "  </thead>\n",
       "  <tbody>\n",
       "    <tr>\n",
       "      <th>0</th>\n",
       "      <td>EGV</td>\n",
       "      <td>174.0</td>\n",
       "      <td>09-01</td>\n",
       "      <td>00:05</td>\n",
       "      <td>0.0</td>\n",
       "      <td>0.0</td>\n",
       "      <td>0.0</td>\n",
       "      <td>0.0</td>\n",
       "      <td>False</td>\n",
       "    </tr>\n",
       "    <tr>\n",
       "      <th>1</th>\n",
       "      <td>EGV</td>\n",
       "      <td>169.0</td>\n",
       "      <td>09-01</td>\n",
       "      <td>00:10</td>\n",
       "      <td>0.0</td>\n",
       "      <td>0.0</td>\n",
       "      <td>0.0</td>\n",
       "      <td>0.0</td>\n",
       "      <td>False</td>\n",
       "    </tr>\n",
       "    <tr>\n",
       "      <th>2</th>\n",
       "      <td>EGV</td>\n",
       "      <td>168.0</td>\n",
       "      <td>09-01</td>\n",
       "      <td>00:15</td>\n",
       "      <td>0.0</td>\n",
       "      <td>0.0</td>\n",
       "      <td>0.0</td>\n",
       "      <td>0.0</td>\n",
       "      <td>False</td>\n",
       "    </tr>\n",
       "    <tr>\n",
       "      <th>3</th>\n",
       "      <td>EGV</td>\n",
       "      <td>169.0</td>\n",
       "      <td>09-01</td>\n",
       "      <td>00:20</td>\n",
       "      <td>0.0</td>\n",
       "      <td>0.0</td>\n",
       "      <td>0.0</td>\n",
       "      <td>0.0</td>\n",
       "      <td>False</td>\n",
       "    </tr>\n",
       "    <tr>\n",
       "      <th>4</th>\n",
       "      <td>EGV</td>\n",
       "      <td>166.0</td>\n",
       "      <td>09-01</td>\n",
       "      <td>00:25</td>\n",
       "      <td>0.0</td>\n",
       "      <td>0.0</td>\n",
       "      <td>0.0</td>\n",
       "      <td>0.0</td>\n",
       "      <td>False</td>\n",
       "    </tr>\n",
       "    <tr>\n",
       "      <th>...</th>\n",
       "      <td>...</td>\n",
       "      <td>...</td>\n",
       "      <td>...</td>\n",
       "      <td>...</td>\n",
       "      <td>...</td>\n",
       "      <td>...</td>\n",
       "      <td>...</td>\n",
       "      <td>...</td>\n",
       "      <td>...</td>\n",
       "    </tr>\n",
       "    <tr>\n",
       "      <th>49773</th>\n",
       "      <td>EGV</td>\n",
       "      <td>141.0</td>\n",
       "      <td>03-30</td>\n",
       "      <td>12:00</td>\n",
       "      <td>179.0</td>\n",
       "      <td>0.0</td>\n",
       "      <td>0.0</td>\n",
       "      <td>0.0</td>\n",
       "      <td>False</td>\n",
       "    </tr>\n",
       "    <tr>\n",
       "      <th>49774</th>\n",
       "      <td>EGV</td>\n",
       "      <td>140.0</td>\n",
       "      <td>03-30</td>\n",
       "      <td>12:05</td>\n",
       "      <td>179.0</td>\n",
       "      <td>0.0</td>\n",
       "      <td>0.0</td>\n",
       "      <td>0.0</td>\n",
       "      <td>False</td>\n",
       "    </tr>\n",
       "    <tr>\n",
       "      <th>49775</th>\n",
       "      <td>EGV</td>\n",
       "      <td>138.0</td>\n",
       "      <td>03-30</td>\n",
       "      <td>12:10</td>\n",
       "      <td>179.0</td>\n",
       "      <td>0.0</td>\n",
       "      <td>0.0</td>\n",
       "      <td>0.0</td>\n",
       "      <td>False</td>\n",
       "    </tr>\n",
       "    <tr>\n",
       "      <th>49776</th>\n",
       "      <td>EGV</td>\n",
       "      <td>135.0</td>\n",
       "      <td>03-30</td>\n",
       "      <td>12:15</td>\n",
       "      <td>179.0</td>\n",
       "      <td>0.0</td>\n",
       "      <td>0.0</td>\n",
       "      <td>0.0</td>\n",
       "      <td>False</td>\n",
       "    </tr>\n",
       "    <tr>\n",
       "      <th>49777</th>\n",
       "      <td>EGV</td>\n",
       "      <td>132.0</td>\n",
       "      <td>03-30</td>\n",
       "      <td>12:20</td>\n",
       "      <td>179.0</td>\n",
       "      <td>0.0</td>\n",
       "      <td>0.0</td>\n",
       "      <td>0.0</td>\n",
       "      <td>False</td>\n",
       "    </tr>\n",
       "  </tbody>\n",
       "</table>\n",
       "<p>49778 rows × 9 columns</p>\n",
       "</div>"
      ],
      "text/plain": [
       "      Event Type  Glucose Value (mg/dL)  MM-DD  HH:MM    Day  smoothed  \\\n",
       "0            EGV                  174.0  09-01  00:05    0.0       0.0   \n",
       "1            EGV                  169.0  09-01  00:10    0.0       0.0   \n",
       "2            EGV                  168.0  09-01  00:15    0.0       0.0   \n",
       "3            EGV                  169.0  09-01  00:20    0.0       0.0   \n",
       "4            EGV                  166.0  09-01  00:25    0.0       0.0   \n",
       "...          ...                    ...    ...    ...    ...       ...   \n",
       "49773        EGV                  141.0  03-30  12:00  179.0       0.0   \n",
       "49774        EGV                  140.0  03-30  12:05  179.0       0.0   \n",
       "49775        EGV                  138.0  03-30  12:10  179.0       0.0   \n",
       "49776        EGV                  135.0  03-30  12:15  179.0       0.0   \n",
       "49777        EGV                  132.0  03-30  12:20  179.0       0.0   \n",
       "\n",
       "       f_prime(x)  f_prime_prime(x)  Meal_Event  \n",
       "0             0.0               0.0       False  \n",
       "1             0.0               0.0       False  \n",
       "2             0.0               0.0       False  \n",
       "3             0.0               0.0       False  \n",
       "4             0.0               0.0       False  \n",
       "...           ...               ...         ...  \n",
       "49773         0.0               0.0       False  \n",
       "49774         0.0               0.0       False  \n",
       "49775         0.0               0.0       False  \n",
       "49776         0.0               0.0       False  \n",
       "49777         0.0               0.0       False  \n",
       "\n",
       "[49778 rows x 9 columns]"
      ]
     },
     "execution_count": 272,
     "metadata": {},
     "output_type": "execute_result"
    }
   ],
   "source": [
    "smoothed['Meal_Event'] = Meal_bool"
   ]
  },
  {
   "cell_type": "markdown",
   "id": "0df4969f",
   "metadata": {},
   "source": [
    "Code for Vineet below:\n",
    "Code for Vineet below:\n",
    "Code for Vineet below:\n",
    "Code for Vineet below:\n",
    "Code for Vineet below:\n",
    "\n",
    "##CODE FOR VINEET"
   ]
  },
  {
   "cell_type": "code",
   "execution_count": null,
   "id": "7cdf3b58",
   "metadata": {},
   "outputs": [],
   "source": [
    "df = pd.read_csv('4022-project/data/12-3l-21_to_3-30-22.csv',skiprows=[x for x in range(1, 12)],)\n",
    "df1 = pd.read_csv('./09-01-21_to_03-30-22.csv', skiprows=[x for x in range(1, 12)],)\n",
    "\n",
    "frames = [df1, df] ##\n",
    "df = pd.concat(frames) ##"
   ]
  },
  {
   "cell_type": "code",
   "execution_count": null,
   "id": "f12b8e07",
   "metadata": {},
   "outputs": [],
   "source": [
    "days = dfM['MM-DD'].unique()\n",
    "#len(days)\n",
    "dates = np.zeros(len(dfM))\n",
    "#daysarr = [0] * #len(dfM['MM-DD'].unique())\n",
    "dayc = 0\n",
    "for dat in dfM['MM-DD']:\n",
    "    #print(dat)\n",
    "    dates[dayc] = np.where(days==dat)[0][0]\n",
    "    dayc+=1\n",
    "    #np.where(days==dat)[0][0]\n",
    "    #dates[dat] = np.where(days==dat)[0][0]"
   ]
  },
  {
   "cell_type": "code",
   "execution_count": null,
   "id": "8bdf2fb0",
   "metadata": {},
   "outputs": [],
   "source": [
    "## PLOTING rankings of derivatives\n",
    "day_points = dfStand.loc[dfStand['Day'] == 0]\n",
    "day_points['f_prime(x)'].values.argsort()\n",
    "plt.plot(day_points['f_prime(x)'].values.argsort())\n",
    "#fprime = day_points['f_prime(x)'].values.argsort(axis=1)\n",
    "### CONCLUSION: unsmoothed derviatives are all over the place, NOT USEFUL"
   ]
  },
  {
   "cell_type": "code",
   "execution_count": null,
   "id": "067f4d3f",
   "metadata": {},
   "outputs": [],
   "source": [
    "fdsmooth = np.zeros(len(gluc))\n",
    "\n",
    "for x in range(7, len(gluc)-7):\n",
    "    fdsmooth[x] = (((0.5) * gluc[x-6]) + \n",
    "                   (gluc[x-5]+gluc[x-4]+gluc[x-3]+gluc[x-2]+gluc[x-1]+gluc[x]+gluc[x+1]+gluc[x+2]+gluc[x+3]+gluc[x+4]+gluc[x-5])\n",
    "                   + ((0.5) * gluc[x+6])) / 12\n",
    "smoothed = pd.concat([dfM, pd.DataFrame(fdsmooth, columns = [\"smoothed\"])], axis=1)"
   ]
  },
  {
   "cell_type": "code",
   "execution_count": null,
   "id": "8d42d8cb",
   "metadata": {},
   "outputs": [],
   "source": [
    "plt.plot(dfM['Glucose Value (mg/dL)'].loc[dfStand['Day'] == 0])\n",
    "plt.plot(smoothed['smoothed'].loc[dfStand['Day'] == 0])\n",
    "plt.show()\n",
    "## TAKE DERIVATIVE OF SMOOTHED GLUCOSE VALUES"
   ]
  },
  {
   "cell_type": "code",
   "execution_count": null,
   "id": "424ae7c3",
   "metadata": {},
   "outputs": [],
   "source": [
    "plt.plot(smoothed['smoothed'].loc[dfStand['Day'] == 1])\n",
    "plt.plot(smoothed['f_prime(x)'].loc[dfStand['Day'] == 1])"
   ]
  },
  {
   "cell_type": "code",
   "execution_count": null,
   "id": "87cf861f",
   "metadata": {},
   "outputs": [],
   "source": [
    "## GETTING MEAL EVENT MARKER FOR EACH DAY\n",
    "## 288 points in a day\n",
    "meal_der_min = 0.7\n",
    "pre_der_cutoff = 0.15\n",
    "#post_der_cutoff = 0.0 ## real cutoff is return to pre BG\n",
    "#deltaBG = 40\n",
    "#Meal_bool = [False] * len(smoothed)\n",
    "Meal_bool = []\n",
    "for x in range(len(days)):\n",
    "    day_points = smoothed.loc[smoothed['Day'] == x]\n",
    "    fprime = day_points['f_prime(x)']\n",
    "    fprime = np.array(fprime > meal_der_min)\n",
    "    for pt in range(len(fprime)):\n",
    "        if fprime[pt] == True:\n",
    "            Meal_bool.append(True)\n",
    "            tmp = pt + 1\n",
    "            while tmp < len(fprime) and fprime[tmp] != False:\n",
    "                fprime[tmp] = False\n",
    "                tmp+=1\n",
    "        else:\n",
    "            Meal_bool.append(False)"
   ]
  },
  {
   "cell_type": "code",
   "execution_count": null,
   "id": "abc52068",
   "metadata": {},
   "outputs": [],
   "source": [
    "smoothed['Meal_Event'] = Meal_bool"
   ]
  }
 ],
 "metadata": {
  "kernelspec": {
   "display_name": "Python 3",
   "language": "python",
   "name": "python3"
  },
  "language_info": {
   "codemirror_mode": {
    "name": "ipython",
    "version": 3
   },
   "file_extension": ".py",
   "mimetype": "text/x-python",
   "name": "python",
   "nbconvert_exporter": "python",
   "pygments_lexer": "ipython3",
   "version": "3.8.8"
  }
 },
 "nbformat": 4,
 "nbformat_minor": 5
}
