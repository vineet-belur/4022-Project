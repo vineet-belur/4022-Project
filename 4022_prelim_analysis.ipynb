{
 "cells": [
  {
   "cell_type": "code",
   "execution_count": 267,
   "metadata": {},
   "outputs": [],
   "source": [
    "import numpy as np\n",
    "import pandas as pd\n",
    "import matplotlib.pyplot as plt\n",
    "from sklearn.neighbors import KNeighborsRegressor"
   ]
  },
  {
   "cell_type": "markdown",
   "metadata": {},
   "source": [
    "Our dataset contains timestamped blood-glucose levels. Still need to finish implementing a column for rate of change(Was guided to look into five point stencils for first/second order derivatives - have looked into them but have a few questions on implementation here). Did a bit of preprocessing(mainly trying to round to even numbers(the readings are not all at the same times during the day, therefore grouping by them becomes a nuisance) and looking over the general spread of the data. "
   ]
  },
  {
   "cell_type": "code",
   "execution_count": 380,
   "metadata": {},
   "outputs": [
    {
     "data": {
      "text/html": [
       "<div>\n",
       "<style scoped>\n",
       "    .dataframe tbody tr th:only-of-type {\n",
       "        vertical-align: middle;\n",
       "    }\n",
       "\n",
       "    .dataframe tbody tr th {\n",
       "        vertical-align: top;\n",
       "    }\n",
       "\n",
       "    .dataframe thead th {\n",
       "        text-align: right;\n",
       "    }\n",
       "</style>\n",
       "<table border=\"1\" class=\"dataframe\">\n",
       "  <thead>\n",
       "    <tr style=\"text-align: right;\">\n",
       "      <th></th>\n",
       "      <th>Timestamp (YYYY-MM-DDThh:mm:ss)</th>\n",
       "      <th>Event Type</th>\n",
       "      <th>Glucose Value (mg/dL)</th>\n",
       "    </tr>\n",
       "  </thead>\n",
       "  <tbody>\n",
       "    <tr>\n",
       "      <th>0</th>\n",
       "      <td>2021-12-31T00:00:48</td>\n",
       "      <td>EGV</td>\n",
       "      <td>158.0</td>\n",
       "    </tr>\n",
       "    <tr>\n",
       "      <th>1</th>\n",
       "      <td>2021-12-31T00:05:48</td>\n",
       "      <td>EGV</td>\n",
       "      <td>158.0</td>\n",
       "    </tr>\n",
       "    <tr>\n",
       "      <th>2</th>\n",
       "      <td>2021-12-31T00:10:49</td>\n",
       "      <td>EGV</td>\n",
       "      <td>157.0</td>\n",
       "    </tr>\n",
       "    <tr>\n",
       "      <th>3</th>\n",
       "      <td>2021-12-31T00:15:48</td>\n",
       "      <td>EGV</td>\n",
       "      <td>149.0</td>\n",
       "    </tr>\n",
       "    <tr>\n",
       "      <th>4</th>\n",
       "      <td>2021-12-31T00:20:48</td>\n",
       "      <td>EGV</td>\n",
       "      <td>143.0</td>\n",
       "    </tr>\n",
       "    <tr>\n",
       "      <th>5</th>\n",
       "      <td>2021-12-31T00:25:48</td>\n",
       "      <td>EGV</td>\n",
       "      <td>135.0</td>\n",
       "    </tr>\n",
       "    <tr>\n",
       "      <th>6</th>\n",
       "      <td>2021-12-31T00:30:48</td>\n",
       "      <td>EGV</td>\n",
       "      <td>139.0</td>\n",
       "    </tr>\n",
       "    <tr>\n",
       "      <th>7</th>\n",
       "      <td>2021-12-31T00:35:49</td>\n",
       "      <td>EGV</td>\n",
       "      <td>142.0</td>\n",
       "    </tr>\n",
       "    <tr>\n",
       "      <th>8</th>\n",
       "      <td>2021-12-31T00:40:49</td>\n",
       "      <td>EGV</td>\n",
       "      <td>146.0</td>\n",
       "    </tr>\n",
       "    <tr>\n",
       "      <th>9</th>\n",
       "      <td>2021-12-31T00:45:48</td>\n",
       "      <td>EGV</td>\n",
       "      <td>145.0</td>\n",
       "    </tr>\n",
       "  </tbody>\n",
       "</table>\n",
       "</div>"
      ],
      "text/plain": [
       "  Timestamp (YYYY-MM-DDThh:mm:ss) Event Type  Glucose Value (mg/dL)\n",
       "0             2021-12-31T00:00:48        EGV                  158.0\n",
       "1             2021-12-31T00:05:48        EGV                  158.0\n",
       "2             2021-12-31T00:10:49        EGV                  157.0\n",
       "3             2021-12-31T00:15:48        EGV                  149.0\n",
       "4             2021-12-31T00:20:48        EGV                  143.0\n",
       "5             2021-12-31T00:25:48        EGV                  135.0\n",
       "6             2021-12-31T00:30:48        EGV                  139.0\n",
       "7             2021-12-31T00:35:49        EGV                  142.0\n",
       "8             2021-12-31T00:40:49        EGV                  146.0\n",
       "9             2021-12-31T00:45:48        EGV                  145.0"
      ]
     },
     "execution_count": 380,
     "metadata": {},
     "output_type": "execute_result"
    }
   ],
   "source": [
    "df = pd.read_csv('./data/12-3l-21_to_3-30-22.csv',skiprows=[x for x in range(1, 12)],)\n",
    "df = df.iloc[:,[1, 2, 7]]\n",
    "df = df[df.isin(['Low', 'High']) == False]\n",
    "df = df[df.iloc[:,2].notna()]\n",
    "dfM = df.reset_index(drop=True)\n",
    "dfM = dfM.astype({dfM.columns[2]:'float64'})\n",
    "dfM.head(10)"
   ]
  },
  {
   "cell_type": "code",
   "execution_count": 381,
   "metadata": {},
   "outputs": [
    {
     "data": {
      "text/plain": [
       "count    25016.000000\n",
       "mean       186.106132\n",
       "std         57.167021\n",
       "min         44.000000\n",
       "25%        145.000000\n",
       "50%        182.000000\n",
       "75%        223.000000\n",
       "max        395.000000\n",
       "Name: Glucose Value (mg/dL), dtype: float64"
      ]
     },
     "execution_count": 381,
     "metadata": {},
     "output_type": "execute_result"
    }
   ],
   "source": [
    "gluc = dfM.iloc[:,2]\n",
    "gluc.describe()"
   ]
  },
  {
   "cell_type": "code",
   "execution_count": 382,
   "metadata": {},
   "outputs": [
    {
     "data": {
      "text/html": [
       "<div>\n",
       "<style scoped>\n",
       "    .dataframe tbody tr th:only-of-type {\n",
       "        vertical-align: middle;\n",
       "    }\n",
       "\n",
       "    .dataframe tbody tr th {\n",
       "        vertical-align: top;\n",
       "    }\n",
       "\n",
       "    .dataframe thead th {\n",
       "        text-align: right;\n",
       "    }\n",
       "</style>\n",
       "<table border=\"1\" class=\"dataframe\">\n",
       "  <thead>\n",
       "    <tr style=\"text-align: right;\">\n",
       "      <th></th>\n",
       "      <th>MM-DD</th>\n",
       "      <th>HH:MM</th>\n",
       "    </tr>\n",
       "  </thead>\n",
       "  <tbody>\n",
       "    <tr>\n",
       "      <th>0</th>\n",
       "      <td>2021-12-31</td>\n",
       "      <td>00:00:48</td>\n",
       "    </tr>\n",
       "    <tr>\n",
       "      <th>1</th>\n",
       "      <td>2021-12-31</td>\n",
       "      <td>00:05:48</td>\n",
       "    </tr>\n",
       "    <tr>\n",
       "      <th>2</th>\n",
       "      <td>2021-12-31</td>\n",
       "      <td>00:10:49</td>\n",
       "    </tr>\n",
       "    <tr>\n",
       "      <th>3</th>\n",
       "      <td>2021-12-31</td>\n",
       "      <td>00:15:48</td>\n",
       "    </tr>\n",
       "    <tr>\n",
       "      <th>4</th>\n",
       "      <td>2021-12-31</td>\n",
       "      <td>00:20:48</td>\n",
       "    </tr>\n",
       "    <tr>\n",
       "      <th>...</th>\n",
       "      <td>...</td>\n",
       "      <td>...</td>\n",
       "    </tr>\n",
       "    <tr>\n",
       "      <th>25011</th>\n",
       "      <td>2022-03-30</td>\n",
       "      <td>12:02:04</td>\n",
       "    </tr>\n",
       "    <tr>\n",
       "      <th>25012</th>\n",
       "      <td>2022-03-30</td>\n",
       "      <td>12:07:04</td>\n",
       "    </tr>\n",
       "    <tr>\n",
       "      <th>25013</th>\n",
       "      <td>2022-03-30</td>\n",
       "      <td>12:12:04</td>\n",
       "    </tr>\n",
       "    <tr>\n",
       "      <th>25014</th>\n",
       "      <td>2022-03-30</td>\n",
       "      <td>12:17:03</td>\n",
       "    </tr>\n",
       "    <tr>\n",
       "      <th>25015</th>\n",
       "      <td>2022-03-30</td>\n",
       "      <td>12:22:03</td>\n",
       "    </tr>\n",
       "  </tbody>\n",
       "</table>\n",
       "<p>25016 rows × 2 columns</p>\n",
       "</div>"
      ],
      "text/plain": [
       "            MM-DD     HH:MM\n",
       "0      2021-12-31  00:00:48\n",
       "1      2021-12-31  00:05:48\n",
       "2      2021-12-31  00:10:49\n",
       "3      2021-12-31  00:15:48\n",
       "4      2021-12-31  00:20:48\n",
       "...           ...       ...\n",
       "25011  2022-03-30  12:02:04\n",
       "25012  2022-03-30  12:07:04\n",
       "25013  2022-03-30  12:12:04\n",
       "25014  2022-03-30  12:17:03\n",
       "25015  2022-03-30  12:22:03\n",
       "\n",
       "[25016 rows x 2 columns]"
      ]
     },
     "execution_count": 382,
     "metadata": {},
     "output_type": "execute_result"
    }
   ],
   "source": [
    "dfM[['MM-DD', 'HH:MM']] = dfM.iloc[:,0].str.split('T', 1, expand=True)\n",
    "dfM.drop('Timestamp (YYYY-MM-DDThh:mm:ss)', axis=1, inplace=True)\n",
    "dfM[['MM-DD', 'HH:MM']]"
   ]
  },
  {
   "cell_type": "code",
   "execution_count": 383,
   "metadata": {},
   "outputs": [
    {
     "data": {
      "text/plain": [
       "'05'"
      ]
     },
     "execution_count": 383,
     "metadata": {},
     "output_type": "execute_result"
    }
   ],
   "source": [
    "round_5 = lambda x: '0' + str(x - x % 5)\n",
    "round_5(8)"
   ]
  },
  {
   "cell_type": "code",
   "execution_count": 384,
   "metadata": {},
   "outputs": [
    {
     "data": {
      "text/plain": [
       "array(['00:00', '00:05', '00:10', '00:15', '00:20', '00:25', '00:30',\n",
       "       '00:35', '00:40', '00:45', '00:50', '00:55', '01:00', '01:05',\n",
       "       '01:10', '01:15', '01:20', '01:25', '01:30', '01:35', '01:40',\n",
       "       '01:45', '01:50', '01:55', '02:00', '02:05', '02:10', '02:15',\n",
       "       '02:20', '02:25', '02:30', '02:35', '02:40', '02:45', '02:50',\n",
       "       '02:55', '03:00', '03:05', '03:10', '03:15', '03:20', '03:25',\n",
       "       '03:30', '03:35', '03:40', '03:45', '03:50', '03:55', '04:00',\n",
       "       '04:05', '04:10', '04:15', '04:20', '04:25', '04:30', '04:35',\n",
       "       '04:40', '04:45', '04:50', '04:55', '05:00', '05:05', '05:10',\n",
       "       '05:15', '05:20', '05:25', '05:30', '05:35', '05:40', '05:45',\n",
       "       '05:50', '05:55', '06:00', '06:05', '06:10', '06:15', '06:20',\n",
       "       '06:25', '06:30', '06:35', '06:40', '06:45', '06:50', '06:55',\n",
       "       '07:00', '07:05', '07:10', '07:15', '07:20', '07:25', '07:30',\n",
       "       '07:35', '07:40', '07:45', '07:50', '07:55', '08:00', '08:05',\n",
       "       '08:10', '08:15', '08:20', '08:25', '08:30', '08:35', '08:40',\n",
       "       '08:45', '08:50', '08:55', '09:00', '09:05', '09:10', '09:15',\n",
       "       '09:20', '09:25', '09:30', '09:35', '09:40', '09:45', '09:50',\n",
       "       '09:55', '10:00', '10:05', '10:10', '10:15', '10:20', '10:25',\n",
       "       '10:30', '10:35', '10:40', '10:45', '10:50', '10:55', '11:00',\n",
       "       '11:05', '11:10', '11:15', '11:20', '11:25', '11:30', '11:35',\n",
       "       '11:40', '11:45', '11:50', '11:55', '12:00', '12:05', '12:10',\n",
       "       '12:15', '12:20', '12:25', '12:30', '12:35', '12:40', '12:45',\n",
       "       '12:50', '12:55', '13:00', '13:05', '13:10', '13:15', '13:20',\n",
       "       '13:25', '13:30', '13:35', '13:40', '13:45', '13:50', '13:55',\n",
       "       '14:00', '14:05', '14:10', '14:15', '14:20', '14:25', '14:30',\n",
       "       '14:35', '14:40', '14:45', '14:50', '14:55', '15:00', '15:05',\n",
       "       '15:10', '15:15', '15:20', '15:25', '15:30', '15:35', '15:40',\n",
       "       '15:45', '15:50', '15:55', '16:00', '16:05', '16:10', '16:15',\n",
       "       '16:20', '16:25', '16:30', '16:35', '16:40', '16:45', '16:50',\n",
       "       '16:55', '17:00', '17:05', '17:10', '17:15', '17:20', '17:25',\n",
       "       '17:30', '17:35', '17:40', '17:45', '17:50', '17:55', '18:00',\n",
       "       '18:05', '18:10', '18:15', '18:20', '18:25', '18:30', '18:35',\n",
       "       '18:40', '18:45', '18:50', '18:55', '19:00', '19:05', '19:10',\n",
       "       '19:15', '19:20', '19:25', '19:30', '19:35', '19:40', '19:45',\n",
       "       '19:50', '19:55', '20:00', '20:05', '20:10', '20:15', '20:20',\n",
       "       '20:25', '20:30', '20:35', '20:40', '20:45', '20:50', '20:55',\n",
       "       '21:00', '21:05', '21:10', '21:15', '21:20', '21:25', '21:30',\n",
       "       '21:35', '21:40', '21:45', '21:50', '21:55', '22:00', '22:05',\n",
       "       '22:10', '22:15', '22:20', '22:25', '22:30', '22:35', '22:40',\n",
       "       '22:45', '22:50', '22:55', '23:00', '23:05', '23:10', '23:15',\n",
       "       '23:20', '23:25', '23:30', '23:35', '23:40', '23:45', '23:50',\n",
       "       '23:55'], dtype=object)"
      ]
     },
     "execution_count": 384,
     "metadata": {},
     "output_type": "execute_result"
    }
   ],
   "source": [
    "dfM['HH:MM'] = dfM['HH:MM'].str.slice(start=0, stop=5)\n",
    "dfM['MM-DD'] = dfM['MM-DD'].str.slice(start=5)\n",
    "dfM['HH:MM'] = dfM['HH:MM'].apply(lambda x: x[0:3] + str(round_5(int(x[3:5]))[-2:])) \n",
    "#this is strictly unneccesarily complicated :shrugs:\n",
    "dfM['HH:MM'].unique()"
   ]
  },
  {
   "cell_type": "code",
   "execution_count": 385,
   "metadata": {},
   "outputs": [
    {
     "data": {
      "text/plain": [
       "array([['00:00', '00:05', '00:10', '00:15', '00:20', '00:25', '00:30',\n",
       "        '00:35', '00:40', '00:45'],\n",
       "       [194.80459770114942, 193.64772727272728, 191.816091954023,\n",
       "        193.26436781609195, 193.63636363636363, 193.26136363636363,\n",
       "        191.367816091954, 190.67045454545453, 189.79545454545453,\n",
       "        188.67816091954023]], dtype=object)"
      ]
     },
     "execution_count": 385,
     "metadata": {},
     "output_type": "execute_result"
    }
   ],
   "source": [
    "means = dfM.groupby(['HH:MM'], as_index=False).mean().to_numpy().T\n",
    "means[:,:10]"
   ]
  },
  {
   "cell_type": "code",
   "execution_count": 386,
   "metadata": {},
   "outputs": [
    {
     "data": {
      "text/plain": [
       "Text(0.5, 0, 'Mintues')"
      ]
     },
     "execution_count": 386,
     "metadata": {},
     "output_type": "execute_result"
    },
    {
     "data": {
      "image/png": "[encoded data removed]",
      "text/plain": [
       "<Figure size 2880x720 with 1 Axes>"
      ]
     },
     "metadata": {
      "needs_background": "light"
     },
     "output_type": "display_data"
    }
   ],
   "source": [
    "plotted_means = [[] for _ in [0,1]]\n",
    "stepsize = 12\n",
    "for x in range(0, len(means[0]), stepsize):\n",
    "    plotted_means[1].append(np.sum(means[1][x:x+stepsize])/stepsize)\n",
    "    plotted_means[0].append(means[0][x] + \" - \" + means[0][x+stepsize-1])\n",
    "fig, ax = plt.subplots(figsize=[40,10])\n",
    "ax.plot(plotted_means[0], plotted_means[1])\n",
    "ax.set_title(\"Mean Blood Glucose Level(mg/dL) per Time-Step(60 minute intervals)\")\n",
    "ax.set_ylabel(\"Blood Glucose(mg/dL)\")\n",
    "ax.set_xlabel(\"Mintues\")"
   ]
  },
  {
   "cell_type": "markdown",
   "metadata": {},
   "source": [
    "Here is the definition of the five point stencil first derivative approx. and second derivative approx. \n",
    "\n",
    "We have five points separated by h(our timestep of 5 here):\n",
    "\n",
    "{x - 2h, x - h, x, x + h, x + 2h}\n",
    "\n",
    "![f'(x)](firstd.png)\n",
    "\n",
    "![f'(x)](secondd.png)\n",
    "Taken from Wikipedia - https://en.wikipedia.org/wiki/Fivepoint_stencil#:~:text=In%20numerical%20analysis%2C%20given%20a,to%20derivatives%20at%20grid%20points"
   ]
  },
  {
   "cell_type": "code",
   "execution_count": 387,
   "metadata": {},
   "outputs": [],
   "source": [
    "firstd = lambda x,h: sum(x*np.array([1,-8,8,-1]))/(12*h) \n",
    "secondd = lambda x,h: sum(x*np.array([-1,16,-30,16,-1]))/(12*(h**2))\n",
    "#I'm not sure how to apply this for the last two and the first two endpoints - I'm going to assume that it makes sense \n",
    "#use a left centered/right-centered finite derivative for my boundaries. Need to check.\n",
    "h = 5\n",
    "fda = np.zeros((len(gluc), 2))\n",
    "for x in range(2, len(gluc)-2):\n",
    "    fda[x] = firstd([*gluc[x-2:x], *gluc[x+1:x+3]],h), secondd(gluc[x-2:x+3],h)\n",
    "dfA = pd.concat([dfM, pd.DataFrame(fda, columns = [\"f_prime(x)\", 'f_prime_prime(x)'])], axis=1)"
   ]
  },
  {
   "cell_type": "code",
   "execution_count": 388,
   "metadata": {},
   "outputs": [],
   "source": [
    "#lets normalize our data so it is all on the same scale.\n",
    "x = dfA.iloc[:,1]\n",
    "maxx, minx = x.max(), x.min()\n",
    "dfA['bglNorm'] = x.apply(lambda x: (x - minx) / (maxx - minx))"
   ]
  },
  {
   "cell_type": "code",
   "execution_count": 389,
   "metadata": {},
   "outputs": [],
   "source": [
    "euc_dist = lambda x,y: np.sqrt(np.sum((x-y)**2))"
   ]
  },
  {
   "cell_type": "markdown",
   "metadata": {},
   "source": [
    "We want to assign points to a label given stdevs away from mean -> do regression and predict what the next value will be. We will do this with a knn-like approach where we will take the closest values and average the mean rate of change + do value * mean rate + value to return what our predicted value would be."
   ]
  },
  {
   "cell_type": "code",
   "execution_count": 390,
   "metadata": {},
   "outputs": [],
   "source": [
    "#lets split our data into 6 chunks. Increasing quickly, increasing rapidly, decreasing quickly, decreasing rapidly\n",
    "#constant decreasing(within -0.5 stdev), constant increasing(within 0.5 stdev)\n",
    "def split(v, s=stdevs[1]):\n",
    "    if v > 2*s: #2stdevs on the right\n",
    "        return 0\n",
    "    elif v > s: #one stdev on the right\n",
    "        return 1\n",
    "    elif v > 0: #within one stdev on right\n",
    "        return 2\n",
    "    elif v > -s: #within one stdev on left.\n",
    "        return 3\n",
    "    elif v > -2*s: #1-2 stdev on left\n",
    "        return 4\n",
    "    else: #2 stdev on right\n",
    "        return 5\n",
    "#just added 1he here. Rewarding choosing the same label to a very very large level here(in terms of minimizing\n",
    "#euclidean distance).\n",
    "dfA['Tag'] = dfA.iloc[:,4].apply(lambda x: split(x))"
   ]
  },
  {
   "cell_type": "markdown",
   "metadata": {},
   "source": [
    "Time series data requires us to convert our feature into a coupling of features when trying to use euclidean distance:\n",
    "\n",
    "Namely we need to center our data around cosine and sine. This is due to the problem of time being circular.\n",
    "\n",
    "https://towardsdatascience.com/cyclical-features-encoding-its-about-time-ce23581845ca"
   ]
  },
  {
   "cell_type": "code",
   "execution_count": 391,
   "metadata": {},
   "outputs": [],
   "source": [
    "def center(v):\n",
    "    z = int(v[0:2])*60 + int(v[3:])\n",
    "    x = 2 * np.pi * z / 1435 # 1435 -> 23:55\n",
    "    cosx = np.cos(x)\n",
    "    sinx = np.sin(x)\n",
    "    return cosx, sinx\n",
    "\n",
    "x= dfA.loc[:,'HH:MM'].apply(lambda x: np.array(center(x)))\n",
    "dfA[['cosx', 'sinx']] = pd.DataFrame(x.to_list(),index=dfA.index)"
   ]
  },
  {
   "cell_type": "code",
   "execution_count": 392,
   "metadata": {},
   "outputs": [
    {
     "data": {
      "text/html": [
       "<div>\n",
       "<style scoped>\n",
       "    .dataframe tbody tr th:only-of-type {\n",
       "        vertical-align: middle;\n",
       "    }\n",
       "\n",
       "    .dataframe tbody tr th {\n",
       "        vertical-align: top;\n",
       "    }\n",
       "\n",
       "    .dataframe thead th {\n",
       "        text-align: right;\n",
       "    }\n",
       "</style>\n",
       "<table border=\"1\" class=\"dataframe\">\n",
       "  <thead>\n",
       "    <tr style=\"text-align: right;\">\n",
       "      <th></th>\n",
       "      <th>Event Type</th>\n",
       "      <th>Glucose Value (mg/dL)</th>\n",
       "      <th>MM-DD</th>\n",
       "      <th>HH:MM</th>\n",
       "      <th>f_prime(x)</th>\n",
       "      <th>f_prime_prime(x)</th>\n",
       "      <th>bglNorm</th>\n",
       "      <th>Tag</th>\n",
       "      <th>cosx</th>\n",
       "      <th>sinx</th>\n",
       "    </tr>\n",
       "  </thead>\n",
       "  <tbody>\n",
       "    <tr>\n",
       "      <th>0</th>\n",
       "      <td>EGV</td>\n",
       "      <td>158.0</td>\n",
       "      <td>12-31</td>\n",
       "      <td>00:00</td>\n",
       "      <td>0.000000</td>\n",
       "      <td>0.000000</td>\n",
       "      <td>0.324786</td>\n",
       "      <td>3</td>\n",
       "      <td>1.000000</td>\n",
       "      <td>0.000000</td>\n",
       "    </tr>\n",
       "    <tr>\n",
       "      <th>1</th>\n",
       "      <td>EGV</td>\n",
       "      <td>158.0</td>\n",
       "      <td>12-31</td>\n",
       "      <td>00:05</td>\n",
       "      <td>0.000000</td>\n",
       "      <td>0.000000</td>\n",
       "      <td>0.324786</td>\n",
       "      <td>3</td>\n",
       "      <td>0.999760</td>\n",
       "      <td>0.021891</td>\n",
       "    </tr>\n",
       "    <tr>\n",
       "      <th>2</th>\n",
       "      <td>EGV</td>\n",
       "      <td>157.0</td>\n",
       "      <td>12-31</td>\n",
       "      <td>00:10</td>\n",
       "      <td>-0.950000</td>\n",
       "      <td>-0.330000</td>\n",
       "      <td>0.321937</td>\n",
       "      <td>3</td>\n",
       "      <td>0.999042</td>\n",
       "      <td>0.043771</td>\n",
       "    </tr>\n",
       "    <tr>\n",
       "      <th>3</th>\n",
       "      <td>EGV</td>\n",
       "      <td>149.0</td>\n",
       "      <td>12-31</td>\n",
       "      <td>00:15</td>\n",
       "      <td>-1.483333</td>\n",
       "      <td>0.123333</td>\n",
       "      <td>0.299145</td>\n",
       "      <td>4</td>\n",
       "      <td>0.997844</td>\n",
       "      <td>0.065631</td>\n",
       "    </tr>\n",
       "    <tr>\n",
       "      <th>4</th>\n",
       "      <td>EGV</td>\n",
       "      <td>143.0</td>\n",
       "      <td>12-31</td>\n",
       "      <td>00:20</td>\n",
       "      <td>-1.566667</td>\n",
       "      <td>-0.140000</td>\n",
       "      <td>0.282051</td>\n",
       "      <td>4</td>\n",
       "      <td>0.996168</td>\n",
       "      <td>0.087459</td>\n",
       "    </tr>\n",
       "    <tr>\n",
       "      <th>...</th>\n",
       "      <td>...</td>\n",
       "      <td>...</td>\n",
       "      <td>...</td>\n",
       "      <td>...</td>\n",
       "      <td>...</td>\n",
       "      <td>...</td>\n",
       "      <td>...</td>\n",
       "      <td>...</td>\n",
       "      <td>...</td>\n",
       "      <td>...</td>\n",
       "    </tr>\n",
       "    <tr>\n",
       "      <th>25011</th>\n",
       "      <td>EGV</td>\n",
       "      <td>141.0</td>\n",
       "      <td>03-30</td>\n",
       "      <td>12:00</td>\n",
       "      <td>-0.233333</td>\n",
       "      <td>0.013333</td>\n",
       "      <td>0.276353</td>\n",
       "      <td>3</td>\n",
       "      <td>-0.999940</td>\n",
       "      <td>-0.010946</td>\n",
       "    </tr>\n",
       "    <tr>\n",
       "      <th>25012</th>\n",
       "      <td>EGV</td>\n",
       "      <td>140.0</td>\n",
       "      <td>03-30</td>\n",
       "      <td>12:05</td>\n",
       "      <td>-0.283333</td>\n",
       "      <td>-0.043333</td>\n",
       "      <td>0.273504</td>\n",
       "      <td>3</td>\n",
       "      <td>-0.999461</td>\n",
       "      <td>-0.032833</td>\n",
       "    </tr>\n",
       "    <tr>\n",
       "      <th>25013</th>\n",
       "      <td>EGV</td>\n",
       "      <td>138.0</td>\n",
       "      <td>03-30</td>\n",
       "      <td>12:10</td>\n",
       "      <td>-0.516667</td>\n",
       "      <td>-0.043333</td>\n",
       "      <td>0.267806</td>\n",
       "      <td>3</td>\n",
       "      <td>-0.998503</td>\n",
       "      <td>-0.054704</td>\n",
       "    </tr>\n",
       "    <tr>\n",
       "      <th>25014</th>\n",
       "      <td>EGV</td>\n",
       "      <td>135.0</td>\n",
       "      <td>03-30</td>\n",
       "      <td>12:15</td>\n",
       "      <td>0.000000</td>\n",
       "      <td>0.000000</td>\n",
       "      <td>0.259259</td>\n",
       "      <td>3</td>\n",
       "      <td>-0.997066</td>\n",
       "      <td>-0.076549</td>\n",
       "    </tr>\n",
       "    <tr>\n",
       "      <th>25015</th>\n",
       "      <td>EGV</td>\n",
       "      <td>132.0</td>\n",
       "      <td>03-30</td>\n",
       "      <td>12:20</td>\n",
       "      <td>0.000000</td>\n",
       "      <td>0.000000</td>\n",
       "      <td>0.250712</td>\n",
       "      <td>3</td>\n",
       "      <td>-0.995151</td>\n",
       "      <td>-0.098358</td>\n",
       "    </tr>\n",
       "  </tbody>\n",
       "</table>\n",
       "<p>25016 rows × 10 columns</p>\n",
       "</div>"
      ],
      "text/plain": [
       "      Event Type  Glucose Value (mg/dL)  MM-DD  HH:MM  f_prime(x)  \\\n",
       "0            EGV                  158.0  12-31  00:00    0.000000   \n",
       "1            EGV                  158.0  12-31  00:05    0.000000   \n",
       "2            EGV                  157.0  12-31  00:10   -0.950000   \n",
       "3            EGV                  149.0  12-31  00:15   -1.483333   \n",
       "4            EGV                  143.0  12-31  00:20   -1.566667   \n",
       "...          ...                    ...    ...    ...         ...   \n",
       "25011        EGV                  141.0  03-30  12:00   -0.233333   \n",
       "25012        EGV                  140.0  03-30  12:05   -0.283333   \n",
       "25013        EGV                  138.0  03-30  12:10   -0.516667   \n",
       "25014        EGV                  135.0  03-30  12:15    0.000000   \n",
       "25015        EGV                  132.0  03-30  12:20    0.000000   \n",
       "\n",
       "       f_prime_prime(x)   bglNorm  Tag      cosx      sinx  \n",
       "0              0.000000  0.324786    3  1.000000  0.000000  \n",
       "1              0.000000  0.324786    3  0.999760  0.021891  \n",
       "2             -0.330000  0.321937    3  0.999042  0.043771  \n",
       "3              0.123333  0.299145    4  0.997844  0.065631  \n",
       "4             -0.140000  0.282051    4  0.996168  0.087459  \n",
       "...                 ...       ...  ...       ...       ...  \n",
       "25011          0.013333  0.276353    3 -0.999940 -0.010946  \n",
       "25012         -0.043333  0.273504    3 -0.999461 -0.032833  \n",
       "25013         -0.043333  0.267806    3 -0.998503 -0.054704  \n",
       "25014          0.000000  0.259259    3 -0.997066 -0.076549  \n",
       "25015          0.000000  0.250712    3 -0.995151 -0.098358  \n",
       "\n",
       "[25016 rows x 10 columns]"
      ]
     },
     "execution_count": 392,
     "metadata": {},
     "output_type": "execute_result"
    }
   ],
   "source": [
    "dfA"
   ]
  },
  {
   "cell_type": "code",
   "execution_count": null,
   "metadata": {},
   "outputs": [],
   "source": []
  },
  {
   "cell_type": "code",
   "execution_count": null,
   "metadata": {},
   "outputs": [],
   "source": []
  }
 ],
 "metadata": {
  "kernelspec": {
   "display_name": "Python 3",
   "language": "python",
   "name": "python3"
  },
  "language_info": {
   "codemirror_mode": {
    "name": "ipython",
    "version": 3
   },
   "file_extension": ".py",
   "mimetype": "text/x-python",
   "name": "python",
   "nbconvert_exporter": "python",
   "pygments_lexer": "ipython3",
   "version": "3.8.5"
  }
 },
 "nbformat": 4,
 "nbformat_minor": 4
}
