{
 "cells": [
  {
   "cell_type": "code",
   "execution_count": 2,
   "metadata": {},
   "outputs": [],
   "source": [
    "import numpy as np\n",
    "import pandas as pd\n",
    "import matplotlib.pyplot as plt\n",
    "from sklearn import neighbors as neigh"
   ]
  },
  {
   "cell_type": "code",
   "execution_count": 3,
   "metadata": {},
   "outputs": [],
   "source": [
    "df = pd.read_csv('./data/12-3l-21_to_3-30-22.csv',skiprows=[x for x in range(1, 12)],)\n",
    "df1 = pd.read_csv('./data/09-01-21_to_03-30-22.csv', skiprows=[x for x in range(1, 12)],)\n",
    "\n",
    "frames = [df1, df] ##\n",
    "df = pd.concat(frames) ##\n",
    "df = df.iloc[:,[1, 2, 7]]\n",
    "df = df[df.isin(['Low', 'High']) == False]\n",
    "df = df[df.iloc[:,2].notna()]\n",
    "dfM = df.reset_index(drop=True)\n",
    "dfM = dfM.astype({dfM.columns[2]:'float64'})\n",
    "\n",
    "\n",
    "#gluc.describe()"
   ]
  },
  {
   "cell_type": "code",
   "execution_count": 4,
   "metadata": {
    "scrolled": true
   },
   "outputs": [
    {
     "data": {
      "text/html": [
       "<div>\n",
       "<style scoped>\n",
       "    .dataframe tbody tr th:only-of-type {\n",
       "        vertical-align: middle;\n",
       "    }\n",
       "\n",
       "    .dataframe tbody tr th {\n",
       "        vertical-align: top;\n",
       "    }\n",
       "\n",
       "    .dataframe thead th {\n",
       "        text-align: right;\n",
       "    }\n",
       "</style>\n",
       "<table border=\"1\" class=\"dataframe\">\n",
       "  <thead>\n",
       "    <tr style=\"text-align: right;\">\n",
       "      <th></th>\n",
       "      <th>MM-DD</th>\n",
       "      <th>HH:MM</th>\n",
       "    </tr>\n",
       "  </thead>\n",
       "  <tbody>\n",
       "    <tr>\n",
       "      <th>0</th>\n",
       "      <td>2021-09-01</td>\n",
       "      <td>00:08:37</td>\n",
       "    </tr>\n",
       "    <tr>\n",
       "      <th>1</th>\n",
       "      <td>2021-09-01</td>\n",
       "      <td>00:13:37</td>\n",
       "    </tr>\n",
       "    <tr>\n",
       "      <th>2</th>\n",
       "      <td>2021-09-01</td>\n",
       "      <td>00:18:36</td>\n",
       "    </tr>\n",
       "    <tr>\n",
       "      <th>3</th>\n",
       "      <td>2021-09-01</td>\n",
       "      <td>00:23:37</td>\n",
       "    </tr>\n",
       "    <tr>\n",
       "      <th>4</th>\n",
       "      <td>2021-09-01</td>\n",
       "      <td>00:28:36</td>\n",
       "    </tr>\n",
       "    <tr>\n",
       "      <th>...</th>\n",
       "      <td>...</td>\n",
       "      <td>...</td>\n",
       "    </tr>\n",
       "    <tr>\n",
       "      <th>49773</th>\n",
       "      <td>2022-03-30</td>\n",
       "      <td>12:02:04</td>\n",
       "    </tr>\n",
       "    <tr>\n",
       "      <th>49774</th>\n",
       "      <td>2022-03-30</td>\n",
       "      <td>12:07:04</td>\n",
       "    </tr>\n",
       "    <tr>\n",
       "      <th>49775</th>\n",
       "      <td>2022-03-30</td>\n",
       "      <td>12:12:04</td>\n",
       "    </tr>\n",
       "    <tr>\n",
       "      <th>49776</th>\n",
       "      <td>2022-03-30</td>\n",
       "      <td>12:17:03</td>\n",
       "    </tr>\n",
       "    <tr>\n",
       "      <th>49777</th>\n",
       "      <td>2022-03-30</td>\n",
       "      <td>12:22:03</td>\n",
       "    </tr>\n",
       "  </tbody>\n",
       "</table>\n",
       "<p>49778 rows × 2 columns</p>\n",
       "</div>"
      ],
      "text/plain": [
       "            MM-DD     HH:MM\n",
       "0      2021-09-01  00:08:37\n",
       "1      2021-09-01  00:13:37\n",
       "2      2021-09-01  00:18:36\n",
       "3      2021-09-01  00:23:37\n",
       "4      2021-09-01  00:28:36\n",
       "...           ...       ...\n",
       "49773  2022-03-30  12:02:04\n",
       "49774  2022-03-30  12:07:04\n",
       "49775  2022-03-30  12:12:04\n",
       "49776  2022-03-30  12:17:03\n",
       "49777  2022-03-30  12:22:03\n",
       "\n",
       "[49778 rows x 2 columns]"
      ]
     },
     "execution_count": 4,
     "metadata": {},
     "output_type": "execute_result"
    }
   ],
   "source": [
    "dfM[['MM-DD', 'HH:MM']] = dfM.iloc[:,0].str.split('T', 1, expand=True)\n",
    "dfM.drop('Timestamp (YYYY-MM-DDThh:mm:ss)', axis=1, inplace=True)\n",
    "dfM[['MM-DD', 'HH:MM']]"
   ]
  },
  {
   "cell_type": "code",
   "execution_count": 5,
   "metadata": {},
   "outputs": [
    {
     "data": {
      "text/plain": [
       "'05'"
      ]
     },
     "execution_count": 5,
     "metadata": {},
     "output_type": "execute_result"
    }
   ],
   "source": [
    "round_5 = lambda x: '0' + str(x - x % 5)\n",
    "round_5(8)"
   ]
  },
  {
   "cell_type": "code",
   "execution_count": 6,
   "metadata": {},
   "outputs": [],
   "source": [
    "dfM['HH:MM'] = dfM['HH:MM'].str.slice(start=0, stop=5)\n",
    "dfM['MM-DD'] = dfM['MM-DD'].str.slice(start=5)\n",
    "dfM['HH:MM'] = dfM['HH:MM'].apply(lambda x: x[0:3] + str(round_5(int(x[3:5]))[-2:])) \n",
    "#this is strictly unneccesarily complicated :shrugs:\n",
    "#dfM['HH:MM'].unique()"
   ]
  },
  {
   "cell_type": "code",
   "execution_count": 7,
   "metadata": {},
   "outputs": [
    {
     "data": {
      "text/plain": [
       "array([['00:00', '00:05', '00:10', '00:15', '00:20', '00:25', '00:30',\n",
       "        '00:35', '00:40', '00:45'],\n",
       "       [202.79651162790697, 201.316091954023, 201.04022988505747,\n",
       "        201.6494252873563, 201.33142857142857, 201.16949152542372,\n",
       "        198.9942196531792, 196.79768786127167, 195.51445086705203,\n",
       "        196.8409090909091]], dtype=object)"
      ]
     },
     "execution_count": 7,
     "metadata": {},
     "output_type": "execute_result"
    }
   ],
   "source": [
    "means = dfM.groupby(['HH:MM'], as_index=False).mean().to_numpy().T\n",
    "means[:,:10]"
   ]
  },
  {
   "cell_type": "code",
   "execution_count": 8,
   "metadata": {},
   "outputs": [],
   "source": [
    "days = dfM['MM-DD'].unique()\n",
    "#len(days)\n",
    "dates = np.zeros(len(dfM))\n",
    "#daysarr = [0] * #len(dfM['MM-DD'].unique())\n",
    "dayc = 0\n",
    "for dat in dfM['MM-DD']:\n",
    "    #print(dat)\n",
    "    dates[dayc] = np.where(days==dat)[0][0]\n",
    "    dayc+=1\n",
    "    #np.where(days==dat)[0][0]\n",
    "    #dates[dat] = np.where(days==dat)[0][0]"
   ]
  },
  {
   "cell_type": "code",
   "execution_count": 9,
   "metadata": {},
   "outputs": [
    {
     "data": {
      "text/plain": [
       "array([  0.,   0.,   0., ..., 179., 179., 179.])"
      ]
     },
     "execution_count": 9,
     "metadata": {},
     "output_type": "execute_result"
    }
   ],
   "source": [
    "dates"
   ]
  },
  {
   "cell_type": "code",
   "execution_count": 10,
   "metadata": {},
   "outputs": [
    {
     "data": {
      "text/html": [
       "<div>\n",
       "<style scoped>\n",
       "    .dataframe tbody tr th:only-of-type {\n",
       "        vertical-align: middle;\n",
       "    }\n",
       "\n",
       "    .dataframe tbody tr th {\n",
       "        vertical-align: top;\n",
       "    }\n",
       "\n",
       "    .dataframe thead th {\n",
       "        text-align: right;\n",
       "    }\n",
       "</style>\n",
       "<table border=\"1\" class=\"dataframe\">\n",
       "  <thead>\n",
       "    <tr style=\"text-align: right;\">\n",
       "      <th></th>\n",
       "      <th>Event Type</th>\n",
       "      <th>Glucose Value (mg/dL)</th>\n",
       "      <th>MM-DD</th>\n",
       "      <th>HH:MM</th>\n",
       "      <th>Day</th>\n",
       "    </tr>\n",
       "  </thead>\n",
       "  <tbody>\n",
       "    <tr>\n",
       "      <th>0</th>\n",
       "      <td>EGV</td>\n",
       "      <td>174.0</td>\n",
       "      <td>09-01</td>\n",
       "      <td>00:05</td>\n",
       "      <td>0.0</td>\n",
       "    </tr>\n",
       "    <tr>\n",
       "      <th>1</th>\n",
       "      <td>EGV</td>\n",
       "      <td>169.0</td>\n",
       "      <td>09-01</td>\n",
       "      <td>00:10</td>\n",
       "      <td>0.0</td>\n",
       "    </tr>\n",
       "    <tr>\n",
       "      <th>2</th>\n",
       "      <td>EGV</td>\n",
       "      <td>168.0</td>\n",
       "      <td>09-01</td>\n",
       "      <td>00:15</td>\n",
       "      <td>0.0</td>\n",
       "    </tr>\n",
       "    <tr>\n",
       "      <th>3</th>\n",
       "      <td>EGV</td>\n",
       "      <td>169.0</td>\n",
       "      <td>09-01</td>\n",
       "      <td>00:20</td>\n",
       "      <td>0.0</td>\n",
       "    </tr>\n",
       "    <tr>\n",
       "      <th>4</th>\n",
       "      <td>EGV</td>\n",
       "      <td>166.0</td>\n",
       "      <td>09-01</td>\n",
       "      <td>00:25</td>\n",
       "      <td>0.0</td>\n",
       "    </tr>\n",
       "    <tr>\n",
       "      <th>...</th>\n",
       "      <td>...</td>\n",
       "      <td>...</td>\n",
       "      <td>...</td>\n",
       "      <td>...</td>\n",
       "      <td>...</td>\n",
       "    </tr>\n",
       "    <tr>\n",
       "      <th>49773</th>\n",
       "      <td>EGV</td>\n",
       "      <td>141.0</td>\n",
       "      <td>03-30</td>\n",
       "      <td>12:00</td>\n",
       "      <td>179.0</td>\n",
       "    </tr>\n",
       "    <tr>\n",
       "      <th>49774</th>\n",
       "      <td>EGV</td>\n",
       "      <td>140.0</td>\n",
       "      <td>03-30</td>\n",
       "      <td>12:05</td>\n",
       "      <td>179.0</td>\n",
       "    </tr>\n",
       "    <tr>\n",
       "      <th>49775</th>\n",
       "      <td>EGV</td>\n",
       "      <td>138.0</td>\n",
       "      <td>03-30</td>\n",
       "      <td>12:10</td>\n",
       "      <td>179.0</td>\n",
       "    </tr>\n",
       "    <tr>\n",
       "      <th>49776</th>\n",
       "      <td>EGV</td>\n",
       "      <td>135.0</td>\n",
       "      <td>03-30</td>\n",
       "      <td>12:15</td>\n",
       "      <td>179.0</td>\n",
       "    </tr>\n",
       "    <tr>\n",
       "      <th>49777</th>\n",
       "      <td>EGV</td>\n",
       "      <td>132.0</td>\n",
       "      <td>03-30</td>\n",
       "      <td>12:20</td>\n",
       "      <td>179.0</td>\n",
       "    </tr>\n",
       "  </tbody>\n",
       "</table>\n",
       "<p>49778 rows × 5 columns</p>\n",
       "</div>"
      ],
      "text/plain": [
       "      Event Type  Glucose Value (mg/dL)  MM-DD  HH:MM    Day\n",
       "0            EGV                  174.0  09-01  00:05    0.0\n",
       "1            EGV                  169.0  09-01  00:10    0.0\n",
       "2            EGV                  168.0  09-01  00:15    0.0\n",
       "3            EGV                  169.0  09-01  00:20    0.0\n",
       "4            EGV                  166.0  09-01  00:25    0.0\n",
       "...          ...                    ...    ...    ...    ...\n",
       "49773        EGV                  141.0  03-30  12:00  179.0\n",
       "49774        EGV                  140.0  03-30  12:05  179.0\n",
       "49775        EGV                  138.0  03-30  12:10  179.0\n",
       "49776        EGV                  135.0  03-30  12:15  179.0\n",
       "49777        EGV                  132.0  03-30  12:20  179.0\n",
       "\n",
       "[49778 rows x 5 columns]"
      ]
     },
     "execution_count": 10,
     "metadata": {},
     "output_type": "execute_result"
    }
   ],
   "source": [
    "dfM['Day'] = dates\n",
    "dfM"
   ]
  },
  {
   "cell_type": "code",
   "execution_count": 11,
   "metadata": {},
   "outputs": [],
   "source": [
    "## GETTING HOW MANY DATA POINTS ARE IN EACH DAY\n",
    "data_points_per_day = []\n",
    "for x in range(len(days)):\n",
    "    data_points_per_day.append(len(dfM.loc[dfM['Day'] == x]))\n",
    "data_points_per_day = np.array(data_points_per_day)"
   ]
  },
  {
   "cell_type": "code",
   "execution_count": 12,
   "metadata": {},
   "outputs": [],
   "source": [
    "## USING MOVING AVERAGES \n",
    "gluc = dfM.iloc[:,1]\n",
    "fdsmooth = np.zeros(len(gluc))\n",
    "#for x in range(6, len(gluc)-6):\n",
    "#    fdsmooth[x] = (((0.5) * gluc[x-5]) + \n",
    "#                   (gluc[x-4]+gluc[x-3]+gluc[x-2]+gluc[x-1]+gluc[x]+gluc[x+1]+gluc[x+2]+gluc[x+3]+gluc[x+4])\n",
    "#                   + ((0.5) * gluc[x+4])) / 10\n",
    "for x in range(7, len(gluc)-7):\n",
    "    fdsmooth[x] = (((0.5) * gluc[x-6]) + \n",
    "                   (gluc[x-5]+gluc[x-4]+gluc[x-3]+gluc[x-2]+gluc[x-1]+gluc[x]+gluc[x+1]+gluc[x+2]+gluc[x+3]+gluc[x+4]+gluc[x-5])\n",
    "                   + ((0.5) * gluc[x+6])) / 12\n",
    "smoothed = pd.concat([dfM, pd.DataFrame(fdsmooth, columns = [\"smoothed\"])], axis=1)"
   ]
  },
  {
   "cell_type": "code",
   "execution_count": 13,
   "metadata": {
    "scrolled": true
   },
   "outputs": [
    {
     "data": {
      "image/png": "[encoded data removed]",
      "text/plain": [
       "<Figure size 432x288 with 1 Axes>"
      ]
     },
     "metadata": {
      "needs_background": "light"
     },
     "output_type": "display_data"
    }
   ],
   "source": [
    "plt.plot(dfM['Glucose Value (mg/dL)'].loc[dfM['Day'] == 0])\n",
    "plt.plot(smoothed['smoothed'].loc[dfM['Day'] == 0])\n",
    "plt.show()"
   ]
  },
  {
   "cell_type": "code",
   "execution_count": 14,
   "metadata": {},
   "outputs": [],
   "source": [
    "firstd = lambda x,h: sum(x*np.array([1,-8,8,-1]))/(12*h) \n",
    "secondd = lambda x,h: sum(x*np.array([-1,16,-30,16,-1]))/(12*(h**2))\n",
    "#I'm not sure how to apply this for the last two and the first two endpoints - I'm going to assume that it makes sense \n",
    "#use a left centered/right-centered finite derivative for my boundaries. Need to check.\n",
    "h = 5\n",
    "gluc=smoothed.iloc[:,-1]\n",
    "fda = np.zeros((len(gluc), 2))\n",
    "for x in range(2, len(gluc)-2):\n",
    "    fda[x] = firstd([*gluc[x-2:x], *gluc[x+1:x+3]],h), secondd(gluc[x-2:x+3],h)\n",
    "smoothed = pd.concat([smoothed, pd.DataFrame(fda, columns = [\"f_prime(x)\", 'f_prime_prime(x)'])], axis=1)"
   ]
  },
  {
   "cell_type": "code",
   "execution_count": 15,
   "metadata": {},
   "outputs": [
    {
     "data": {
      "text/plain": [
       "[<matplotlib.lines.Line2D at 0x7fccccfe5280>]"
      ]
     },
     "execution_count": 15,
     "metadata": {},
     "output_type": "execute_result"
    },
    {
     "data": {
      "image/png": "[encoded data removed]",
      "text/plain": [
       "<Figure size 432x288 with 1 Axes>"
      ]
     },
     "metadata": {
      "needs_background": "light"
     },
     "output_type": "display_data"
    }
   ],
   "source": [
    "plt.plot(smoothed['smoothed'].loc[dfM['Day'] == 1])"
   ]
  },
  {
   "cell_type": "code",
   "execution_count": 16,
   "metadata": {
    "scrolled": false
   },
   "outputs": [
    {
     "data": {
      "text/plain": [
       "[<matplotlib.lines.Line2D at 0x7fcccd511490>]"
      ]
     },
     "execution_count": 16,
     "metadata": {},
     "output_type": "execute_result"
    },
    {
     "data": {
      "image/png": "[encoded data removed]",
      "text/plain": [
       "<Figure size 432x288 with 1 Axes>"
      ]
     },
     "metadata": {
      "needs_background": "light"
     },
     "output_type": "display_data"
    }
   ],
   "source": [
    "plt.plot(smoothed['f_prime(x)'].loc[dfM['Day'] == 1])"
   ]
  },
  {
   "cell_type": "code",
   "execution_count": 17,
   "metadata": {},
   "outputs": [
    {
     "data": {
      "text/plain": [
       "[<matplotlib.lines.Line2D at 0x7fcccd5174c0>]"
      ]
     },
     "execution_count": 17,
     "metadata": {},
     "output_type": "execute_result"
    },
    {
     "data": {
      "image/png": "[encoded data removed]",
      "text/plain": [
       "<Figure size 432x288 with 1 Axes>"
      ]
     },
     "metadata": {
      "needs_background": "light"
     },
     "output_type": "display_data"
    }
   ],
   "source": [
    "plt.plot(smoothed['f_prime_prime(x)'].loc[dfM['Day'] == 10])"
   ]
  },
  {
   "cell_type": "code",
   "execution_count": 18,
   "metadata": {
    "scrolled": true
   },
   "outputs": [],
   "source": [
    "day_points = smoothed.loc[smoothed['Day'] == 1]\n",
    "fprime = day_points['f_prime(x)']\n",
    "asdf = np.array(fprime > 0.7)\n",
    "#print(asdf)\n",
    "asf = []\n",
    "for pt in range(len(asdf)):\n",
    "    if asdf[pt] == True:\n",
    "        asf.append(True)\n",
    "        tmp = pt + 1\n",
    "        while asdf[tmp] != False:\n",
    "            asdf[tmp] = False\n",
    "            tmp+=1\n",
    "    else:\n",
    "        asf.append(False)"
   ]
  },
  {
   "cell_type": "code",
   "execution_count": 19,
   "metadata": {},
   "outputs": [],
   "source": [
    "## GETTING HOW MANY MEALS WERE EACH DAY\n",
    "## 288 points in a day\n",
    "meal_der_min = 0.7\n",
    "pre_der_cutoff = 0.15\n",
    "#post_der_cutoff = 0.0 ## real cutoff is return to pre BG\n",
    "#deltaBG = 40\n",
    "#Meal_bool = [False] * len(smoothed)\n",
    "Meal_bool = []\n",
    "for x in range(len(days)):\n",
    "    day_points = smoothed.loc[smoothed['Day'] == x]\n",
    "    fprime = day_points['f_prime(x)']\n",
    "    fprime = np.array(fprime > meal_der_min)\n",
    "    for pt in range(len(fprime)):\n",
    "        if fprime[pt] == True:\n",
    "            Meal_bool.append(True)\n",
    "            tmp = pt + 1\n",
    "            while tmp < len(fprime) and fprime[tmp] != False:\n",
    "                fprime[tmp] = False\n",
    "                tmp+=1\n",
    "        else:\n",
    "            Meal_bool.append(False)\n",
    "smoothed['Meal_Event'] = Meal_bool"
   ]
  },
  {
   "cell_type": "code",
   "execution_count": 20,
   "metadata": {},
   "outputs": [],
   "source": [
    "smoothed = smoothed.iloc[7:-7]\n",
    "stdev = smoothed.iloc[5:-5 :, 6].std()"
   ]
  },
  {
   "cell_type": "code",
   "execution_count": 21,
   "metadata": {},
   "outputs": [],
   "source": [
    "#lets split our data into 6 chunks. Increasing quickly, increasing rapidly, decreasing quickly, decreasing rapidly\n",
    "#constant decreasing(within -0.5 stdev), constant increasing(within 0.5 stdev)\n",
    "def split(v, s=stdev):\n",
    "    if v > 2*s: #2stdevs on the right\n",
    "        return 0\n",
    "    elif v > s: #one stdev on the right\n",
    "        return 1\n",
    "    elif v > 0: #within one stdev on right\n",
    "        return 2\n",
    "    elif v > -s: #within one stdev on left.\n",
    "        return 3\n",
    "    elif v > -2*s: #1-2 stdev on left\n",
    "        return 4\n",
    "    else: #2 stdev on right\n",
    "        return 5\n",
    "#just added 1he here. Rewarding choosing the same label to a very very large level here(in terms of minimizing\n",
    "#euclidean distance).\n",
    "smoothed['tag'] = smoothed.iloc[:,6].apply(lambda x: split(x))"
   ]
  },
  {
   "cell_type": "code",
   "execution_count": 22,
   "metadata": {},
   "outputs": [
    {
     "data": {
      "text/html": [
       "<div>\n",
       "<style scoped>\n",
       "    .dataframe tbody tr th:only-of-type {\n",
       "        vertical-align: middle;\n",
       "    }\n",
       "\n",
       "    .dataframe tbody tr th {\n",
       "        vertical-align: top;\n",
       "    }\n",
       "\n",
       "    .dataframe thead th {\n",
       "        text-align: right;\n",
       "    }\n",
       "</style>\n",
       "<table border=\"1\" class=\"dataframe\">\n",
       "  <thead>\n",
       "    <tr style=\"text-align: right;\">\n",
       "      <th></th>\n",
       "      <th>Event Type</th>\n",
       "      <th>Glucose Value (mg/dL)</th>\n",
       "      <th>MM-DD</th>\n",
       "      <th>HH:MM</th>\n",
       "      <th>Day</th>\n",
       "      <th>smoothed</th>\n",
       "      <th>f_prime(x)</th>\n",
       "      <th>f_prime_prime(x)</th>\n",
       "      <th>Meal_Event</th>\n",
       "      <th>tag</th>\n",
       "    </tr>\n",
       "  </thead>\n",
       "  <tbody>\n",
       "    <tr>\n",
       "      <th>7</th>\n",
       "      <td>EGV</td>\n",
       "      <td>155.0</td>\n",
       "      <td>09-01</td>\n",
       "      <td>00:40</td>\n",
       "      <td>0.0</td>\n",
       "      <td>158.750000</td>\n",
       "      <td>18.353472</td>\n",
       "      <td>-8.018750</td>\n",
       "      <td>False</td>\n",
       "      <td>0</td>\n",
       "    </tr>\n",
       "    <tr>\n",
       "      <th>8</th>\n",
       "      <td>EGV</td>\n",
       "      <td>152.0</td>\n",
       "      <td>09-01</td>\n",
       "      <td>00:45</td>\n",
       "      <td>0.0</td>\n",
       "      <td>156.958333</td>\n",
       "      <td>-3.101389</td>\n",
       "      <td>0.502778</td>\n",
       "      <td>False</td>\n",
       "      <td>5</td>\n",
       "    </tr>\n",
       "    <tr>\n",
       "      <th>9</th>\n",
       "      <td>EGV</td>\n",
       "      <td>152.0</td>\n",
       "      <td>09-01</td>\n",
       "      <td>00:50</td>\n",
       "      <td>0.0</td>\n",
       "      <td>154.458333</td>\n",
       "      <td>-0.538194</td>\n",
       "      <td>-0.008472</td>\n",
       "      <td>False</td>\n",
       "      <td>3</td>\n",
       "    </tr>\n",
       "    <tr>\n",
       "      <th>10</th>\n",
       "      <td>EGV</td>\n",
       "      <td>152.0</td>\n",
       "      <td>09-01</td>\n",
       "      <td>00:55</td>\n",
       "      <td>0.0</td>\n",
       "      <td>151.750000</td>\n",
       "      <td>-0.516667</td>\n",
       "      <td>0.015278</td>\n",
       "      <td>False</td>\n",
       "      <td>3</td>\n",
       "    </tr>\n",
       "    <tr>\n",
       "      <th>11</th>\n",
       "      <td>EGV</td>\n",
       "      <td>150.0</td>\n",
       "      <td>09-01</td>\n",
       "      <td>01:00</td>\n",
       "      <td>0.0</td>\n",
       "      <td>149.375000</td>\n",
       "      <td>-0.442361</td>\n",
       "      <td>0.012083</td>\n",
       "      <td>False</td>\n",
       "      <td>3</td>\n",
       "    </tr>\n",
       "    <tr>\n",
       "      <th>...</th>\n",
       "      <td>...</td>\n",
       "      <td>...</td>\n",
       "      <td>...</td>\n",
       "      <td>...</td>\n",
       "      <td>...</td>\n",
       "      <td>...</td>\n",
       "      <td>...</td>\n",
       "      <td>...</td>\n",
       "      <td>...</td>\n",
       "      <td>...</td>\n",
       "    </tr>\n",
       "    <tr>\n",
       "      <th>49766</th>\n",
       "      <td>EGV</td>\n",
       "      <td>134.0</td>\n",
       "      <td>03-30</td>\n",
       "      <td>11:25</td>\n",
       "      <td>179.0</td>\n",
       "      <td>126.125000</td>\n",
       "      <td>0.506250</td>\n",
       "      <td>-0.027083</td>\n",
       "      <td>False</td>\n",
       "      <td>2</td>\n",
       "    </tr>\n",
       "    <tr>\n",
       "      <th>49767</th>\n",
       "      <td>EGV</td>\n",
       "      <td>138.0</td>\n",
       "      <td>03-30</td>\n",
       "      <td>11:30</td>\n",
       "      <td>179.0</td>\n",
       "      <td>128.375000</td>\n",
       "      <td>0.440972</td>\n",
       "      <td>0.003194</td>\n",
       "      <td>False</td>\n",
       "      <td>2</td>\n",
       "    </tr>\n",
       "    <tr>\n",
       "      <th>49768</th>\n",
       "      <td>EGV</td>\n",
       "      <td>139.0</td>\n",
       "      <td>03-30</td>\n",
       "      <td>11:35</td>\n",
       "      <td>179.0</td>\n",
       "      <td>130.666667</td>\n",
       "      <td>0.480556</td>\n",
       "      <td>0.009722</td>\n",
       "      <td>False</td>\n",
       "      <td>2</td>\n",
       "    </tr>\n",
       "    <tr>\n",
       "      <th>49769</th>\n",
       "      <td>EGV</td>\n",
       "      <td>138.0</td>\n",
       "      <td>03-30</td>\n",
       "      <td>11:40</td>\n",
       "      <td>179.0</td>\n",
       "      <td>133.166667</td>\n",
       "      <td>2.800694</td>\n",
       "      <td>0.457639</td>\n",
       "      <td>True</td>\n",
       "      <td>0</td>\n",
       "    </tr>\n",
       "    <tr>\n",
       "      <th>49770</th>\n",
       "      <td>EGV</td>\n",
       "      <td>139.0</td>\n",
       "      <td>03-30</td>\n",
       "      <td>11:45</td>\n",
       "      <td>179.0</td>\n",
       "      <td>135.625000</td>\n",
       "      <td>-15.577778</td>\n",
       "      <td>-6.895833</td>\n",
       "      <td>False</td>\n",
       "      <td>5</td>\n",
       "    </tr>\n",
       "  </tbody>\n",
       "</table>\n",
       "<p>49764 rows × 10 columns</p>\n",
       "</div>"
      ],
      "text/plain": [
       "      Event Type  Glucose Value (mg/dL)  MM-DD  HH:MM    Day    smoothed  \\\n",
       "7            EGV                  155.0  09-01  00:40    0.0  158.750000   \n",
       "8            EGV                  152.0  09-01  00:45    0.0  156.958333   \n",
       "9            EGV                  152.0  09-01  00:50    0.0  154.458333   \n",
       "10           EGV                  152.0  09-01  00:55    0.0  151.750000   \n",
       "11           EGV                  150.0  09-01  01:00    0.0  149.375000   \n",
       "...          ...                    ...    ...    ...    ...         ...   \n",
       "49766        EGV                  134.0  03-30  11:25  179.0  126.125000   \n",
       "49767        EGV                  138.0  03-30  11:30  179.0  128.375000   \n",
       "49768        EGV                  139.0  03-30  11:35  179.0  130.666667   \n",
       "49769        EGV                  138.0  03-30  11:40  179.0  133.166667   \n",
       "49770        EGV                  139.0  03-30  11:45  179.0  135.625000   \n",
       "\n",
       "       f_prime(x)  f_prime_prime(x)  Meal_Event  tag  \n",
       "7       18.353472         -8.018750       False    0  \n",
       "8       -3.101389          0.502778       False    5  \n",
       "9       -0.538194         -0.008472       False    3  \n",
       "10      -0.516667          0.015278       False    3  \n",
       "11      -0.442361          0.012083       False    3  \n",
       "...           ...               ...         ...  ...  \n",
       "49766    0.506250         -0.027083       False    2  \n",
       "49767    0.440972          0.003194       False    2  \n",
       "49768    0.480556          0.009722       False    2  \n",
       "49769    2.800694          0.457639        True    0  \n",
       "49770  -15.577778         -6.895833       False    5  \n",
       "\n",
       "[49764 rows x 10 columns]"
      ]
     },
     "execution_count": 22,
     "metadata": {},
     "output_type": "execute_result"
    }
   ],
   "source": [
    "smoothed"
   ]
  },
  {
   "cell_type": "code",
   "execution_count": 23,
   "metadata": {},
   "outputs": [],
   "source": [
    "def center(v):\n",
    "    z = int(v[0:2])*60 + int(v[3:])\n",
    "    x = 2 * np.pi * z / 1435 # 1435 -> 23:55\n",
    "    cosx = np.cos(x)\n",
    "    sinx = np.sin(x)\n",
    "    return cosx, sinx\n",
    "\n",
    "x= smoothed.loc[:,'HH:MM'].apply(lambda x: np.array(center(x)))\n",
    "smoothed[['cosx', 'sinx']] = pd.DataFrame(x.to_list(),index=smoothed.index)"
   ]
  },
  {
   "cell_type": "code",
   "execution_count": 88,
   "metadata": {},
   "outputs": [],
   "source": [
    "smoothed_mean, smoothed_stdev = smoothed.loc[:,'smoothed'].mean(), smoothed.loc[:,'smoothed'].std()\n",
    "smoothed['bglNorm'] = smoothed.loc[:,'smoothed'].apply(lambda x: (x - mean) /stdev)"
   ]
  },
  {
   "cell_type": "code",
   "execution_count": 89,
   "metadata": {},
   "outputs": [
    {
     "data": {
      "text/plain": [
       "NearestNeighbors(n_neighbors=3)"
      ]
     },
     "execution_count": 89,
     "metadata": {},
     "output_type": "execute_result"
    }
   ],
   "source": [
    "dfNumeric = smoothed.loc[:, ['bglNorm', 'tag', 'cosx', 'sinx']].to_numpy()\n",
    "knn = neigh.NearestNeighbors(n_neighbors=3)\n",
    "knn.fit(dfNumeric)"
   ]
  },
  {
   "cell_type": "code",
   "execution_count": 95,
   "metadata": {},
   "outputs": [
    {
     "data": {
      "text/plain": [
       "array([0.02207247, 0.04945257, 0.05094161])"
      ]
     },
     "execution_count": 95,
     "metadata": {},
     "output_type": "execute_result"
    }
   ],
   "source": [
    "dist,_= knn.kneighbors(X=[[-0.480948, 4, 0.965689, 0.259700]])"
   ]
  },
  {
   "cell_type": "code",
   "execution_count": 91,
   "metadata": {},
   "outputs": [
    {
     "data": {
      "text/html": [
       "<div>\n",
       "<style scoped>\n",
       "    .dataframe tbody tr th:only-of-type {\n",
       "        vertical-align: middle;\n",
       "    }\n",
       "\n",
       "    .dataframe tbody tr th {\n",
       "        vertical-align: top;\n",
       "    }\n",
       "\n",
       "    .dataframe thead th {\n",
       "        text-align: right;\n",
       "    }\n",
       "</style>\n",
       "<table border=\"1\" class=\"dataframe\">\n",
       "  <thead>\n",
       "    <tr style=\"text-align: right;\">\n",
       "      <th></th>\n",
       "      <th>Event Type</th>\n",
       "      <th>Glucose Value (mg/dL)</th>\n",
       "      <th>MM-DD</th>\n",
       "      <th>HH:MM</th>\n",
       "      <th>Day</th>\n",
       "      <th>smoothed</th>\n",
       "      <th>f_prime(x)</th>\n",
       "      <th>f_prime_prime(x)</th>\n",
       "      <th>Meal_Event</th>\n",
       "      <th>tag</th>\n",
       "      <th>cosx</th>\n",
       "      <th>sinx</th>\n",
       "      <th>bglNorm</th>\n",
       "    </tr>\n",
       "  </thead>\n",
       "  <tbody>\n",
       "    <tr>\n",
       "      <th>45238</th>\n",
       "      <td>EGV</td>\n",
       "      <td>168.0</td>\n",
       "      <td>03-14</td>\n",
       "      <td>01:05</td>\n",
       "      <td>163.0</td>\n",
       "      <td>158.583333</td>\n",
       "      <td>-0.797222</td>\n",
       "      <td>-0.032222</td>\n",
       "      <td>False</td>\n",
       "      <td>4</td>\n",
       "      <td>0.959773</td>\n",
       "      <td>0.280778</td>\n",
       "      <td>-0.483764</td>\n",
       "    </tr>\n",
       "    <tr>\n",
       "      <th>40100</th>\n",
       "      <td>EGV</td>\n",
       "      <td>151.0</td>\n",
       "      <td>02-24</td>\n",
       "      <td>00:55</td>\n",
       "      <td>145.0</td>\n",
       "      <td>156.125000</td>\n",
       "      <td>-0.992361</td>\n",
       "      <td>-0.064861</td>\n",
       "      <td>False</td>\n",
       "      <td>4</td>\n",
       "      <td>0.971143</td>\n",
       "      <td>0.238498</td>\n",
       "      <td>-0.525291</td>\n",
       "    </tr>\n",
       "    <tr>\n",
       "      <th>40099</th>\n",
       "      <td>EGV</td>\n",
       "      <td>155.0</td>\n",
       "      <td>02-24</td>\n",
       "      <td>00:50</td>\n",
       "      <td>145.0</td>\n",
       "      <td>160.291667</td>\n",
       "      <td>-0.824306</td>\n",
       "      <td>0.009583</td>\n",
       "      <td>False</td>\n",
       "      <td>4</td>\n",
       "      <td>0.976131</td>\n",
       "      <td>0.217182</td>\n",
       "      <td>-0.454906</td>\n",
       "    </tr>\n",
       "  </tbody>\n",
       "</table>\n",
       "</div>"
      ],
      "text/plain": [
       "      Event Type  Glucose Value (mg/dL)  MM-DD  HH:MM    Day    smoothed  \\\n",
       "45238        EGV                  168.0  03-14  01:05  163.0  158.583333   \n",
       "40100        EGV                  151.0  02-24  00:55  145.0  156.125000   \n",
       "40099        EGV                  155.0  02-24  00:50  145.0  160.291667   \n",
       "\n",
       "       f_prime(x)  f_prime_prime(x)  Meal_Event  tag      cosx      sinx  \\\n",
       "45238   -0.797222         -0.032222       False    4  0.959773  0.280778   \n",
       "40100   -0.992361         -0.064861       False    4  0.971143  0.238498   \n",
       "40099   -0.824306          0.009583       False    4  0.976131  0.217182   \n",
       "\n",
       "        bglNorm  \n",
       "45238 -0.483764  \n",
       "40100 -0.525291  \n",
       "40099 -0.454906  "
      ]
     },
     "execution_count": 91,
     "metadata": {},
     "output_type": "execute_result"
    }
   ],
   "source": [
    "smoothed.iloc[[45231, 40093, 40092]]"
   ]
  },
  {
   "cell_type": "code",
   "execution_count": 92,
   "metadata": {},
   "outputs": [],
   "source": [
    "normalized = lambda bgl, mean, stdev: (bgl-mean)/stdev\n",
    "\n",
    "def sim_w_m(x):\n",
    "    x = 1/(1+x)\n",
    "    x = x/np.sum(x)\n",
    "    return x    "
   ]
  },
  {
   "cell_type": "code",
   "execution_count": 192,
   "metadata": {},
   "outputs": [],
   "source": [
    "def predicted_bgl(bgl,tag,hhmm,neighbors=3,mean=smoothed_mean,stdev=smoothed_stdev,nn=knn,df=smoothed):\n",
    "    \n",
    "    bglNorm = normalized(bgl, mean, stdev)\n",
    "    cosx, sinx = center(hhmm)\n",
    "    dist, ind = nn.kneighbors(X=[[bglNorm, tag, cosx, sinx]], n_neighbors=neighbors)\n",
    "    \n",
    "    rows = df.iloc[ind[0]]\n",
    "    f_primes = rows.loc[:,['f_prime(x)']]\n",
    "    simwmean_f_prime = np.sum(f_primes*sim_w_m(f_primes))\n",
    "    \n",
    "    return simwmean_f_prime*5 + bgl, f_primes, rows['Day'].unique, ind"
   ]
  },
  {
   "cell_type": "code",
   "execution_count": 134,
   "metadata": {},
   "outputs": [
    {
     "name": "stdout",
     "output_type": "stream",
     "text": [
      "f_prime(x)   -1.074778\n",
      "dtype: float64\n"
     ]
    },
    {
     "data": {
      "text/plain": [
       "(f_prime(x)    153.209442\n",
       " dtype: float64,\n",
       "        f_prime(x)\n",
       " 36072   -1.034722\n",
       " 25465   -1.276389\n",
       " 25466   -1.129861,\n",
       " <bound method Series.unique of 36072    130.0\n",
       " 25465     92.0\n",
       " 25466     92.0\n",
       " Name: Day, dtype: float64>,\n",
       " array([[36065, 25458, 25459]]))"
      ]
     },
     "execution_count": 134,
     "metadata": {},
     "output_type": "execute_result"
    }
   ],
   "source": [
    "predicted_bgl(158.583333, 4, '10:55')"
   ]
  },
  {
   "cell_type": "code",
   "execution_count": 207,
   "metadata": {},
   "outputs": [
    {
     "data": {
      "text/plain": [
       "NearestNeighbors(n_neighbors=3)"
      ]
     },
     "execution_count": 207,
     "metadata": {},
     "output_type": "execute_result"
    }
   ],
   "source": [
    "x,y = smoothed.iloc[1000:2000,[5,-4,3]].to_numpy(), dfNumeric[2000:]\n",
    "model = neigh.NearestNeighbors(n_neighbors=3)\n",
    "model.fit(y)"
   ]
  },
  {
   "cell_type": "code",
   "execution_count": 208,
   "metadata": {},
   "outputs": [],
   "source": [
    "pred = np.zeros(len(x))\n",
    "for i,j in enumerate(x):\n",
    "    pred[i],_,_,_ = predicted_bgl(j[0], j[1], j[2],neighbors=3)"
   ]
  },
  {
   "cell_type": "code",
   "execution_count": 217,
   "metadata": {},
   "outputs": [
    {
     "data": {
      "text/plain": [
       "95.91023720705606"
      ]
     },
     "execution_count": 217,
     "metadata": {},
     "output_type": "execute_result"
    }
   ],
   "source": [
    "np.sqrt(np.sum((smoothed.iloc[1001:2001:,5].to_numpy() - pred)**2)) #RMSE"
   ]
  },
  {
   "cell_type": "code",
   "execution_count": 156,
   "metadata": {},
   "outputs": [
    {
     "data": {
      "text/plain": [
       "array([148.24025822, 152.51012529, 149.68581905, 147.54635245,\n",
       "       145.34133156, 143.65434669, 141.61520649, 139.09560005,\n",
       "       136.67786983, 132.71358907, 129.47315973, 126.49727249,\n",
       "       123.92863808, 121.38737858, 119.38717271, 116.6492831 ,\n",
       "       114.6411436 , 112.36305609, 109.81663241, 108.84354483,\n",
       "       108.55657676, 107.55241249, 106.81113969, 105.83145982,\n",
       "       105.42757146, 105.02992948, 106.83006183, 105.98030742,\n",
       "       106.66749204, 107.50779288, 108.39734819, 108.64237319,\n",
       "       109.41968486, 110.58434733, 112.43549205, 114.49332075,\n",
       "       115.35364301, 116.63515644, 118.12494796, 118.72845322,\n",
       "       119.41168643, 120.43172671, 122.55405981, 124.49314349,\n",
       "       124.07391864, 125.44448384, 128.42734915, 130.97834077,\n",
       "       132.55080727, 133.66797232, 134.28176216, 134.47836276,\n",
       "       136.9092273 , 138.57540369, 140.93751129, 143.51213059,\n",
       "       145.71554942, 147.6476836 , 148.32019131, 149.67729547,\n",
       "       151.68087305, 153.48344389, 156.63849635, 158.53174404,\n",
       "       159.72988718, 160.15824405, 160.32086407, 161.4164114 ,\n",
       "       162.87948707, 162.26933982, 161.78595507, 162.51020639,\n",
       "       163.23506116, 164.4992076 , 165.19499085, 166.60248588,\n",
       "       168.17255011, 168.9828409 , 170.72365701, 173.00272122,\n",
       "       174.8144351 , 178.44029349, 182.44123512, 184.39556608,\n",
       "       191.88307206, 198.38358212, 209.95506066, 213.54142966,\n",
       "       220.91013975, 226.24858139, 232.94630567, 237.9191607 ,\n",
       "       239.53023692, 241.19802172, 248.92184919, 251.57306418,\n",
       "       254.05569307, 255.44305121, 256.46992335, 256.88111375,\n",
       "       257.39165166, 257.53379067, 255.06898212, 257.42408597,\n",
       "       258.46884891, 259.83932947, 260.87077994, 258.48543806,\n",
       "       257.51980771, 256.26323081, 253.73732739, 249.80558601,\n",
       "       244.96462224, 239.72897492, 233.711587  , 229.74239705,\n",
       "       230.801804  , 218.71094699, 213.08754072, 205.87825869,\n",
       "       205.70270519, 200.8732089 , 198.2429357 , 195.57693708,\n",
       "       192.45936022, 188.66870707, 184.88759724, 182.39028754,\n",
       "       180.24940016, 177.94463441, 175.27707733, 173.72774312,\n",
       "       170.41495739, 166.27788316, 163.09965165, 159.63060479,\n",
       "       156.83593699, 154.5667861 , 152.7182427 , 150.42521986,\n",
       "       147.95899362, 144.62085191, 142.65574437, 139.09430487,\n",
       "       135.93246816, 134.81432864, 134.64597086, 137.11092376,\n",
       "       138.6562569 , 140.85521898, 143.8180841 , 149.94785947,\n",
       "       154.52205394, 159.44935638, 165.08487241, 175.86463204,\n",
       "       188.07594762, 196.77228899, 203.86442322, 211.31166685,\n",
       "       221.62233702, 224.16773686, 231.99635537, 238.2360604 ,\n",
       "       244.8832875 , 250.33843479, 256.11093975, 260.63110622,\n",
       "       263.43729434, 264.99569324, 266.38711502, 267.00255788,\n",
       "       267.63259004, 268.23917189, 265.63213173, 264.14606518,\n",
       "       259.86351388, 256.79338582, 254.66639273, 252.74972606,\n",
       "       251.32317544, 247.50332486, 243.65701854, 237.5386624 ,\n",
       "       230.52551204, 226.34130811, 224.48458941, 221.1699059 ,\n",
       "       216.10719165, 211.99718246, 206.65557061, 203.59422967,\n",
       "       196.73886231, 191.35368089, 184.48580193, 180.25157568,\n",
       "       166.820011  , 141.64530124, 165.57893492, 164.44138207,\n",
       "       162.55154656, 164.7242454 , 166.65408304, 167.76518295,\n",
       "       169.18326213, 171.29132072, 172.25034175, 172.72420237,\n",
       "       169.36797303, 168.60223138, 166.72602609, 164.54964748,\n",
       "       160.85428779, 157.25611392, 154.52974899, 153.35894593,\n",
       "       151.04875507, 151.00364216, 149.72173046, 151.74798295,\n",
       "       153.78760403, 155.23643992, 156.38637996, 155.89098514,\n",
       "       155.29710774, 154.55469691, 153.45388249, 152.33564626,\n",
       "       150.21087792, 149.37293912, 146.30119128, 141.42640928,\n",
       "       139.38809025, 137.4007393 , 135.16178423, 134.25666017,\n",
       "       132.5709176 , 130.89841748, 126.9544079 , 124.48640433,\n",
       "       123.61826874, 122.44359951, 121.8400732 , 122.21983099,\n",
       "       121.63112918, 124.03513615, 127.09914157, 132.78324269,\n",
       "       134.82070432, 137.18169148, 138.64206413, 141.66096229,\n",
       "       145.87285496, 149.15475858, 150.82378254, 151.82193082,\n",
       "       152.55248398, 150.03038532, 148.51467217, 147.49987946,\n",
       "       146.47773199, 144.3258663 , 142.19230654, 139.6647029 ,\n",
       "       137.74170695, 136.07525458, 133.92132564, 132.24235229,\n",
       "       131.45068562, 129.41660001, 126.43621606, 123.08095299,\n",
       "       119.55646143, 116.60688968, 114.65723037, 112.29898053,\n",
       "       109.92421387, 109.11609529, 106.29054554, 102.22721658,\n",
       "        96.8265786 ,  93.77961045,  91.15826127,  88.23105774,\n",
       "        85.98589295,  83.38435964,  83.46769297,  82.03730976,\n",
       "        83.72625948,  83.68459281,  86.79051806,  88.67506144,\n",
       "        91.82869527, 100.3967478 , 105.8967478 , 114.38250671,\n",
       "       117.75253278, 123.96025087, 130.66998582, 136.37494789,\n",
       "       136.22109428, 137.78782054, 139.77798001, 142.72487748,\n",
       "       143.75811277, 145.15735181, 141.08046427, 140.48123578,\n",
       "       138.5514388 , 137.12854643, 136.38420524, 133.59963724,\n",
       "       133.14654758, 130.83536041, 130.57001546, 129.36131882,\n",
       "       128.19321143, 125.4877902 , 126.52111226, 124.64935904,\n",
       "       126.57616399, 127.98403298, 128.99380085, 130.31383274,\n",
       "       130.68736546, 131.90861158, 132.71904248, 134.15116705,\n",
       "       134.7041893 , 135.62719813, 136.57196609, 137.47539623,\n",
       "       137.59960426, 137.94888408, 136.65999074, 136.32665741,\n",
       "       137.80263308, 138.77145831, 139.80754134, 141.99034092,\n",
       "       143.23332578, 146.77933418, 148.16380868, 150.05987618,\n",
       "       153.84168896, 155.6234332 , 156.37500588, 157.39563852,\n",
       "       159.18660318, 160.73004297, 162.82047564, 163.72543407,\n",
       "       161.43523475, 159.68473584, 159.0092032 , 157.39492949,\n",
       "       156.8153593 , 159.68635151, 162.37840681, 167.66787841,\n",
       "       169.59253833, 170.20272234, 171.94477692, 174.54133223,\n",
       "       176.72330954, 178.47622041, 180.78339735, 184.38969756,\n",
       "       187.46584508, 187.06811493, 187.92946235, 188.61008212,\n",
       "       190.90021224, 194.55064946, 201.55381697, 206.88894209,\n",
       "       213.62723335, 221.21424057, 230.91028161, 236.09016475,\n",
       "       247.15151906, 254.01753356, 258.5025503 , 265.39961132,\n",
       "       270.09065006, 271.38529638, 273.16347694, 270.41209278,\n",
       "       269.25421651, 267.32048645, 264.11378003, 260.11897871,\n",
       "       254.03680374, 249.37149815, 247.83685245, 238.75844119,\n",
       "       232.79135875, 225.99224612, 219.91780683, 214.87085712,\n",
       "       209.22611444, 205.73935359, 202.62126474, 199.50081684,\n",
       "       196.71301907, 194.64446371, 191.1226164 , 189.88843224,\n",
       "       186.3874054 , 183.87919437, 181.57728872, 179.06380701,\n",
       "       176.65149996, 174.71129909, 171.13317089, 167.99972756,\n",
       "       164.56903681, 160.61547543, 156.70467841, 151.33584639,\n",
       "       148.04590612, 142.86745779, 138.98979577, 136.97406282,\n",
       "       133.80452412, 130.19033454, 127.15751479, 123.9999573 ,\n",
       "       120.08438992, 117.52338682, 114.28567529, 112.05382065,\n",
       "       110.38285793, 106.88469369, 105.34716066, 103.61006076,\n",
       "       100.14401704,  99.61150396,  99.36093538, 101.61040503,\n",
       "       103.5640296 , 105.50261376, 108.03558812, 110.4535957 ,\n",
       "       112.85047536, 113.87859846, 116.31534079, 119.02215522,\n",
       "       120.79629678, 121.05404328, 117.43323953, 116.48602583,\n",
       "       114.71031807, 113.78267129, 112.62316592, 116.54731382,\n",
       "       117.42231382, 119.32545606, 120.88274296, 122.1930814 ,\n",
       "       124.24042829, 126.05171369, 129.92978396, 136.27548678,\n",
       "       141.02329089, 140.50341228, 143.61131599, 145.74938072,\n",
       "       149.60370978, 156.47803166, 162.33073747, 174.26256916,\n",
       "       180.92019809, 184.87770532, 191.26558069, 194.37514239,\n",
       "       200.37727246, 206.39122778, 209.88953358, 214.6606793 ,\n",
       "       214.60215813, 217.02493421, 220.21071203, 222.45388164,\n",
       "       223.22114937, 229.79549171, 231.61604166, 235.22531813,\n",
       "       237.56677635, 239.65244558, 240.25909393, 240.53650027,\n",
       "       240.32308491, 240.40641824, 241.26691628, 243.66376279,\n",
       "       244.91744553, 240.03786263, 238.85362272, 233.73687395,\n",
       "       229.41084254, 220.39500336, 213.74022016, 189.49687932,\n",
       "       200.03614616, 189.63672638, 180.38211325, 171.47270928,\n",
       "       173.00726462, 163.72116788, 164.07592875, 166.56617141,\n",
       "       169.77527439, 175.62937745, 180.75333257, 186.58259153,\n",
       "       193.32492589, 200.4655285 , 207.55625135, 212.50797943,\n",
       "       216.77060314, 216.99196762, 218.56704087, 220.7390481 ,\n",
       "       222.08348117, 219.21895998, 219.16673133, 215.42373929,\n",
       "       210.76063908, 205.27912601, 200.99827954, 192.98981706,\n",
       "       185.37023048, 179.25805478, 172.7970905 , 165.62071815,\n",
       "       161.92271388, 158.09759613, 156.40623677, 155.4424959 ,\n",
       "       153.21518078, 152.42351411, 156.89253595, 157.67886902,\n",
       "       163.72490907, 168.60645202, 172.87571648, 178.7702647 ,\n",
       "       184.78813743, 185.90071313, 192.10154222, 195.65899147,\n",
       "       196.9626222 , 200.82871793, 203.00483402, 204.06188776,\n",
       "       206.11652028, 205.86437465, 207.4711527 , 204.25125495,\n",
       "       202.86989427, 203.60780446, 203.39047996, 202.60573469,\n",
       "       200.58927022, 201.16325128, 199.51769859, 202.94794393,\n",
       "       203.04209106, 204.28818312, 204.57035901, 206.09659267,\n",
       "       206.45725301, 206.58225301, 207.68855202, 211.10945749,\n",
       "       215.1488771 , 217.45205409, 220.50899156, 224.35399013,\n",
       "       227.04022018, 228.61213981, 231.3331439 , 236.83813452,\n",
       "       241.46427922, 242.9901191 , 246.07010677, 248.57243059,\n",
       "       250.25949062, 252.01984133, 252.16414068, 253.51515405,\n",
       "       256.21505657, 257.13383199, 257.84415826, 255.66066003,\n",
       "       254.72314565, 252.54813824, 249.83005776, 247.25142373,\n",
       "       246.8779959 , 244.39210131, 240.2233064 , 234.55624462,\n",
       "       230.43124462, 229.17910152, 225.71743775, 223.18652417,\n",
       "       220.70398395, 217.29619364, 214.96754028, 213.30802628,\n",
       "       211.34473669, 210.20237707, 208.88182352, 207.83768404,\n",
       "       207.09845787, 205.9730791 , 205.53613751, 204.87006921,\n",
       "       206.83385276, 207.32535076, 210.31198066, 211.38354269,\n",
       "       213.94144746, 215.36552005, 217.07160442, 218.27826305,\n",
       "       219.85885923, 221.15614422, 223.83786182, 226.32953852,\n",
       "       227.36495684, 229.0536258 , 229.3491961 , 230.23344472,\n",
       "       230.58546779, 230.83703856, 229.01018459, 229.5064367 ,\n",
       "       231.05036775, 231.59203442, 231.89182174, 232.14182174,\n",
       "       230.93536338, 230.69154249, 229.34670234, 228.53989062,\n",
       "       226.98490517, 225.96098112, 222.25242243, 218.83227699,\n",
       "       210.37525344, 200.50965845, 199.11374634, 194.52640011,\n",
       "       191.89494456, 190.85165917, 189.98496844, 192.79706169,\n",
       "       195.63507881, 201.38446468, 212.24651393, 222.19731688,\n",
       "       235.7232944 , 248.66536154, 263.07255199, 275.48110186,\n",
       "       285.82813958, 295.0545483 , 303.82229648, 313.32649351,\n",
       "       325.82149308, 327.28541586, 334.17067276, 338.75721817,\n",
       "       343.42388483, 344.25510417, 347.29677084, 349.75510417,\n",
       "       346.90039066, 345.983724  , 344.24151912, 341.95252772,\n",
       "       339.23396732, 336.19230066, 331.03005972, 327.03005972,\n",
       "       322.3939664 , 317.42471397, 312.63594031, 307.68842435,\n",
       "       301.45838601, 295.85977628, 290.31104562, 284.6710365 ,\n",
       "       278.46334178, 269.86381876, 264.36505606, 256.37168005,\n",
       "       250.55627637, 243.2716341 , 236.13088478, 228.86981103,\n",
       "       225.3053    , 218.55726036, 212.99338329, 205.0495389 ,\n",
       "       185.49180445, 194.92515737, 190.22947761, 183.5643367 ,\n",
       "       179.58067844, 175.04011091, 170.47463153, 164.93341529,\n",
       "       162.43650735, 155.58255554, 148.63290185, 143.46152711,\n",
       "       138.52379805, 133.28352983, 129.8172892 , 125.50095432,\n",
       "       119.84309731, 113.77132432, 113.30289616, 110.18022054,\n",
       "       107.34109359, 104.42965233, 102.27757262, 101.03345976,\n",
       "       103.36865655, 106.1605456 , 113.59642425, 119.58186509,\n",
       "       125.28666317, 131.95283815, 137.49571894, 142.05226118,\n",
       "       147.29701117, 150.85890127, 155.27266944, 155.13230582,\n",
       "       152.83152708, 148.15628824, 118.61472045, 130.91925902,\n",
       "       127.10254413, 124.34391085, 122.08762297, 125.34510777,\n",
       "       126.05340941, 128.80620859, 130.97669903, 134.83370727,\n",
       "       137.7920406 , 140.22953081, 144.17939917, 146.8220379 ,\n",
       "       147.33958288, 143.6615757 , 142.03824305, 138.0359712 ,\n",
       "       136.26172319, 124.9149799 , 125.47881057, 121.8078174 ,\n",
       "       120.1044471 , 118.08571165, 116.78967879, 119.20084961,\n",
       "       121.06109171, 125.00809167, 131.70022409, 132.90543792,\n",
       "       135.90890707, 138.07591937, 139.85480684, 143.73813042,\n",
       "       150.32627173, 150.51504205, 152.45914181, 156.48829694,\n",
       "       159.71274149, 161.93475171, 164.65468824, 165.93325897,\n",
       "       167.78130352, 162.83915469, 160.35428779, 156.79778059,\n",
       "       154.21280885, 149.98335125, 146.59263265, 141.17986862,\n",
       "       137.59451059, 132.95902015, 128.97894023, 126.72615216,\n",
       "       125.54670979, 124.54066818, 124.01003965, 124.67196274,\n",
       "       124.92575655, 125.98788048, 126.81702724, 127.70768582,\n",
       "       129.19013689, 128.34480523, 126.97024089, 130.92917427,\n",
       "       131.73382423, 131.88297972, 133.03289277, 135.97485939,\n",
       "       140.80073247, 147.06586385, 151.77406065, 157.76170707,\n",
       "       165.00953226, 172.12504624, 177.41779988, 185.34236467,\n",
       "       190.44998098, 195.31966343, 199.72519657, 204.85721786,\n",
       "       206.73356947, 208.26936832, 208.40962206, 204.93834913,\n",
       "       202.78372725, 197.2077361 , 190.99799884, 187.68962033,\n",
       "       178.53943452, 167.23324026, 159.84720294, 151.08762113,\n",
       "       143.35387244, 139.71802776, 130.70656776, 125.3019865 ,\n",
       "       120.31113438, 114.96728356, 110.46237074, 109.84803453,\n",
       "       106.17539957, 104.33146331, 102.21023686, 100.44948442,\n",
       "        98.15441789, 101.72220428, 103.43053761, 110.76835674,\n",
       "       117.49334245, 123.39971578, 135.17348422, 145.24943155,\n",
       "       157.02235381, 178.41677288, 184.73153874, 201.19538084,\n",
       "       218.04316855, 233.21434532, 249.21369385, 262.46813526,\n",
       "       273.33626319, 285.12922037, 296.98060999, 306.32990789,\n",
       "       314.41202652, 322.3510117 , 327.80709622, 335.75309856,\n",
       "       342.50617168, 349.24772752, 354.08043023, 359.33043023,\n",
       "       358.75078612, 355.15072212, 359.37578612, 360.50078612,\n",
       "       362.02365267, 363.52365267, 360.67642163, 359.5930883 ,\n",
       "       353.00724113, 346.04890779, 343.57327985, 343.69827985,\n",
       "       341.28161318, 335.1718828 , 330.71354946, 320.06477733,\n",
       "       319.62687405, 314.30774478, 308.69543109, 303.34160962,\n",
       "       298.16612659, 292.93083756, 288.10913548, 283.69733285,\n",
       "       279.63383014, 275.65384232, 267.47105036, 259.11593269,\n",
       "       259.64008734, 253.43168074, 251.47712361, 247.58846594,\n",
       "       244.12758964, 241.69603355, 240.9967042 , 240.28837087,\n",
       "       241.046039  , 240.67513832, 239.83152759, 239.1772887 ,\n",
       "       238.12321941, 236.59447956, 236.12804575, 234.82859607,\n",
       "       231.40286886, 228.42578044, 225.8996849 , 222.9925765 ,\n",
       "       219.92705902, 216.96830853, 215.52714231, 212.4867832 ,\n",
       "       209.96363557, 208.54972545, 207.16915585, 206.29246961,\n",
       "       205.46299649, 204.41322159, 203.12062646, 202.45002033,\n",
       "       200.89056449, 198.11863261, 196.36595539, 194.35248834,\n",
       "       191.52812153, 187.55140665, 183.44814506, 177.45532663,\n",
       "       172.98951812, 168.08220879, 162.17614701, 156.48848043,\n",
       "       152.37781157, 146.77302183, 142.36299094, 137.82183502,\n",
       "       132.91350108, 130.54611783, 127.94566461, 124.77583991,\n",
       "       122.09303653, 119.93154627, 117.76084172, 114.72045505,\n",
       "       113.11268289, 112.06072867, 112.12143507, 111.14754035,\n",
       "       109.1791867 , 107.07020532, 107.23676218, 106.361544  ,\n",
       "       104.6283934 , 104.40917068, 101.46970001, 100.81800199,\n",
       "        99.46231542,  98.01386092,  96.69729529,  95.46718183,\n",
       "        94.60547064,  92.78609222,  90.50225995,  88.44259088,\n",
       "        86.95835721,  85.82461491,  88.18173392,  89.05673392,\n",
       "        91.90701596,  99.92759345, 105.58295397, 110.0828773 ,\n",
       "       115.39751608, 121.07895981, 128.32743051, 135.25085751,\n",
       "       141.99446116, 148.70787759, 150.19347611])"
      ]
     },
     "execution_count": 156,
     "metadata": {},
     "output_type": "execute_result"
    }
   ],
   "source": [
    "pred"
   ]
  },
  {
   "cell_type": "code",
   "execution_count": null,
   "metadata": {},
   "outputs": [],
   "source": []
  }
 ],
 "metadata": {
  "kernelspec": {
   "display_name": "Python 3",
   "language": "python",
   "name": "python3"
  },
  "language_info": {
   "codemirror_mode": {
    "name": "ipython",
    "version": 3
   },
   "file_extension": ".py",
   "mimetype": "text/x-python",
   "name": "python",
   "nbconvert_exporter": "python",
   "pygments_lexer": "ipython3",
   "version": "3.8.5"
  }
 },
 "nbformat": 4,
 "nbformat_minor": 5
}
